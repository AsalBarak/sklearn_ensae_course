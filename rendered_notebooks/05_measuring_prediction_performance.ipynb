{
 "metadata": {
  "name": ""
 },
 "nbformat": 3,
 "nbformat_minor": 0,
 "worksheets": [
  {
   "cells": [
    {
     "cell_type": "heading",
     "level": 1,
     "metadata": {},
     "source": [
      "Measuring prediction performance"
     ]
    },
    {
     "cell_type": "heading",
     "level": 2,
     "metadata": {},
     "source": [
      "Using the K-neighbors classifier"
     ]
    },
    {
     "cell_type": "markdown",
     "metadata": {},
     "source": [
      "Here we'll continue to look at the digits data, but we'll switch to the\n",
      "K-Neighbors classifier.  The K-neighbors classifier is an instance-based\n",
      "classifier.  The K-neighbors classifier predicts the label of\n",
      "an unknown point based on the labels of the *K* nearest points in the\n",
      "parameter space."
     ]
    },
    {
     "cell_type": "code",
     "collapsed": false,
     "input": [
      "# Get the data\n",
      "from sklearn.datasets import load_digits\n",
      "digits = load_digits()\n",
      "X = digits.data\n",
      "y = digits.target"
     ],
     "language": "python",
     "metadata": {},
     "outputs": [],
     "prompt_number": 0
    },
    {
     "cell_type": "code",
     "collapsed": false,
     "input": [
      "# Instantiate and train the classifier\n",
      "from sklearn.neighbors import KNeighborsClassifier\n",
      "clf = KNeighborsClassifier(n_neighbors=1)\n",
      "clf.fit(X, y)"
     ],
     "language": "python",
     "metadata": {},
     "outputs": [
      {
       "output_type": "pyout",
       "prompt_number": 3,
       "text": [
        "KNeighborsClassifier(algorithm='auto', leaf_size=30, metric='minkowski',\n",
        "           metric_params=None, n_neighbors=1, p=2, weights='uniform')"
       ]
      }
     ],
     "prompt_number": 1
    },
    {
     "cell_type": "code",
     "collapsed": false,
     "input": [
      "# Check the results using metrics\n",
      "from sklearn import metrics\n",
      "y_pred = clf.predict(X)"
     ],
     "language": "python",
     "metadata": {},
     "outputs": [],
     "prompt_number": 2
    },
    {
     "cell_type": "code",
     "collapsed": false,
     "input": [
      "print(metrics.confusion_matrix(y_pred, y))"
     ],
     "language": "python",
     "metadata": {},
     "outputs": [
      {
       "output_type": "stream",
       "stream": "stdout",
       "text": [
        "[[178   0   0   0   0   0   0   0   0   0]\n",
        " [  0 182   0   0   0   0   0   0   0   0]\n",
        " [  0   0 177   0   0   0   0   0   0   0]\n",
        " [  0   0   0 183   0   0   0   0   0   0]\n",
        " [  0   0   0   0 181   0   0   0   0   0]\n",
        " [  0   0   0   0   0 182   0   0   0   0]\n",
        " [  0   0   0   0   0   0 181   0   0   0]\n",
        " [  0   0   0   0   0   0   0 179   0   0]\n",
        " [  0   0   0   0   0   0   0   0 174   0]\n",
        " [  0   0   0   0   0   0   0   0   0 180]]\n"
       ]
      },
      {
       "output_type": "stream",
       "stream": "stderr",
       "text": [
        "/home/varoquau/dev/numpy/numpy/core/fromnumeric.py:2499: VisibleDeprecationWarning: `rank` is deprecated; use the `ndim` attribute or function instead. To find the rank of a matrix see `numpy.linalg.matrix_rank`.\n",
        "  VisibleDeprecationWarning)\n"
       ]
      }
     ],
     "prompt_number": 3
    },
    {
     "cell_type": "markdown",
     "metadata": {},
     "source": [
      "Apparently, we've found a perfect classifier!  But this is misleading\n",
      "for the reasons we saw before: the classifier essentially \"memorizes\"\n",
      "all the samples it has already seen.  To really test how well this\n",
      "algorithm does, we need to try some samples it *hasn't* yet seen.\n",
      "\n",
      "This problem can also occur with regression models. In the following we fit an other instance-based model named \"decision tree\" to the Boston Housing price dataset we introduced previously:"
     ]
    },
    {
     "cell_type": "code",
     "collapsed": false,
     "input": [
      "%matplotlib inline\n",
      "from matplotlib import pyplot as plt\n",
      "import numpy as np"
     ],
     "language": "python",
     "metadata": {},
     "outputs": [],
     "prompt_number": 4
    },
    {
     "cell_type": "code",
     "collapsed": false,
     "input": [
      "from sklearn.datasets import load_boston\n",
      "from sklearn.tree import DecisionTreeRegressor\n",
      "\n",
      "data = load_boston()\n",
      "clf = DecisionTreeRegressor().fit(data.data, data.target)\n",
      "predicted = clf.predict(data.data)\n",
      "expected = data.target\n",
      "\n",
      "plt.scatter(expected, predicted)\n",
      "plt.plot([0, 50], [0, 50], '--k')\n",
      "plt.axis('tight')\n",
      "plt.xlabel('True price ($1000s)')\n",
      "plt.ylabel('Predicted price ($1000s)')"
     ],
     "language": "python",
     "metadata": {},
     "outputs": [
      {
       "output_type": "pyout",
       "prompt_number": 7,
       "text": [
        "<matplotlib.text.Text at 0x2ad39c2f76d0>"
       ]
      },
      {
       "output_type": "display_data",
       "png": "[encoded data removed]",
       "text": [
        "<matplotlib.figure.Figure at 0x2ad39bbedf10>"
       ]
      }
     ],
     "prompt_number": 5
    },
    {
     "cell_type": "markdown",
     "metadata": {},
     "source": [
      "Here again the predictions are seemingly perfect as the model was able to perfectly memorize the training set."
     ]
    },
    {
     "cell_type": "heading",
     "level": 2,
     "metadata": {},
     "source": [
      "A Better Approach: Using a validation set"
     ]
    },
    {
     "cell_type": "markdown",
     "metadata": {},
     "source": [
      "Learning the parameters of a prediction function and testing it on the\n",
      "same data is a methodological mistake: a model that would just repeat\n",
      "the labels of the samples that it has just seen would have a perfect\n",
      "score but would fail to predict anything useful on yet-unseen data.\n",
      "\n",
      "To avoid over-fitting, we have to define two different sets:\n",
      "\n",
      "- a training set X_train, y_train which is used for learning the parameters of a predictive model\n",
      "- a testing set X_test, y_test which is used for evaluating the fitted predictive model\n",
      "\n",
      "In scikit-learn such a random split can be quickly computed with the\n",
      "`train_test_split` helper function.  It can be used this way:"
     ]
    },
    {
     "cell_type": "code",
     "collapsed": false,
     "input": [
      "from sklearn import cross_validation\n",
      "X = digits.data\n",
      "y = digits.target\n",
      "\n",
      "X_train, X_test, y_train, y_test = cross_validation.train_test_split(X, y, test_size=0.25, random_state=0)\n",
      "\n",
      "print(\"%r, %r, %r\" % (X.shape, X_train.shape, X_test.shape))"
     ],
     "language": "python",
     "metadata": {},
     "outputs": [
      {
       "output_type": "stream",
       "stream": "stdout",
       "text": [
        "(1797, 64), (1347, 64), (450, 64)\n"
       ]
      }
     ],
     "prompt_number": 6
    },
    {
     "cell_type": "markdown",
     "metadata": {},
     "source": [
      "Now we train on the training data, and test on the testing data:"
     ]
    },
    {
     "cell_type": "code",
     "collapsed": false,
     "input": [
      "clf = KNeighborsClassifier(n_neighbors=1).fit(X_train, y_train)\n",
      "y_pred = clf.predict(X_test)"
     ],
     "language": "python",
     "metadata": {},
     "outputs": [],
     "prompt_number": 7
    },
    {
     "cell_type": "code",
     "collapsed": false,
     "input": [
      "print(metrics.confusion_matrix(y_test, y_pred))"
     ],
     "language": "python",
     "metadata": {},
     "outputs": [
      {
       "output_type": "stream",
       "stream": "stdout",
       "text": [
        "[[37  0  0  0  0  0  0  0  0  0]\n",
        " [ 0 43  0  0  0  0  0  0  0  0]\n",
        " [ 0  0 43  1  0  0  0  0  0  0]\n",
        " [ 0  0  0 45  0  0  0  0  0  0]\n",
        " [ 0  0  0  0 38  0  0  0  0  0]\n",
        " [ 0  0  0  0  0 47  0  0  0  1]\n",
        " [ 0  0  0  0  0  0 52  0  0  0]\n",
        " [ 0  0  0  0  0  0  0 48  0  0]\n",
        " [ 0  0  0  0  0  0  0  0 48  0]\n",
        " [ 0  0  0  1  0  1  0  0  0 45]]\n"
       ]
      }
     ],
     "prompt_number": 8
    },
    {
     "cell_type": "code",
     "collapsed": false,
     "input": [
      "print(metrics.classification_report(y_test, y_pred))"
     ],
     "language": "python",
     "metadata": {},
     "outputs": [
      {
       "output_type": "stream",
       "stream": "stdout",
       "text": [
        "             precision    recall  f1-score   support\n",
        "\n",
        "          0       1.00      1.00      1.00        37\n",
        "          1       1.00      1.00      1.00        43\n",
        "          2       1.00      0.98      0.99        44\n",
        "          3       0.96      1.00      0.98        45\n",
        "          4       1.00      1.00      1.00        38\n",
        "          5       0.98      0.98      0.98        48\n",
        "          6       1.00      1.00      1.00        52\n",
        "          7       1.00      1.00      1.00        48\n",
        "          8       1.00      1.00      1.00        48\n",
        "          9       0.98      0.96      0.97        47\n",
        "\n",
        "avg / total       0.99      0.99      0.99       450\n",
        "\n"
       ]
      }
     ],
     "prompt_number": 9
    },
    {
     "cell_type": "markdown",
     "metadata": {},
     "source": [
      "The averaged f1-score is often used as a convenient measure of the\n",
      "overall performance of an algorithm.  It appears in the bottom row\n",
      "of the classification report; it can also be accessed directly:"
     ]
    },
    {
     "cell_type": "code",
     "collapsed": false,
     "input": [
      "metrics.f1_score(y_test, y_pred)"
     ],
     "language": "python",
     "metadata": {},
     "outputs": [
      {
       "output_type": "pyout",
       "prompt_number": 12,
       "text": [
        "0.99111080660386652"
       ]
      }
     ],
     "prompt_number": 10
    },
    {
     "cell_type": "markdown",
     "metadata": {},
     "source": [
      "The over-fitting we saw previously can be quantified by computing the\n",
      "f1-score on the training data itself:"
     ]
    },
    {
     "cell_type": "code",
     "collapsed": false,
     "input": [
      "metrics.f1_score(y_train, clf.predict(X_train))"
     ],
     "language": "python",
     "metadata": {},
     "outputs": [
      {
       "output_type": "pyout",
       "prompt_number": 13,
       "text": [
        "1.0"
       ]
      }
     ],
     "prompt_number": 11
    },
    {
     "cell_type": "markdown",
     "metadata": {},
     "source": [
      "**Regression metrics** In the case of regression models, we need to use different metrics, such as explained variance."
     ]
    },
    {
     "cell_type": "heading",
     "level": 2,
     "metadata": {},
     "source": [
      "Application: Model Selection via Validation"
     ]
    },
    {
     "cell_type": "markdown",
     "metadata": {},
     "source": [
      "In the previous notebook, we saw Gaussian Naive Bayes classification of the digits.\n",
      "Here we saw K-neighbors classification of the digits.  We've also seen support vector\n",
      "machine classification of digits.  Now that we have these\n",
      "validation tools in place, we can ask quantitatively which of the three estimators\n",
      "works best for the digits dataset.\n",
      "\n",
      "- With the default hyper-parameters for each estimator, which gives the best f1 score\n",
      "  on the **validation set**?  Recall that hyperparameters are the parameters set when\n",
      "  you instantiate the classifier: for example, the ``n_neighbors`` in\n",
      "\n",
      "          clf = KNeighborsClassifier(n_neighbors=1)\n",
      "\n",
      "- For each classifier, which value for the hyperparameters gives the best results for\n",
      "  the digits data?  For ``LinearSVC``, use ``loss='l2'`` and ``loss='l1'``.  For\n",
      "  ``KNeighborsClassifier`` we use ``n_neighbors`` between 1 and 10.  Note that ``GaussianNB``\n",
      "  does not have any adjustable hyperparameters."
     ]
    },
    {
     "cell_type": "code",
     "collapsed": false,
     "input": [
      "from sklearn.svm import LinearSVC\n",
      "from sklearn.naive_bayes import GaussianNB\n",
      "from sklearn.neighbors import KNeighborsClassifier\n",
      "\n",
      "import warnings  # suppress warnings from older versions of KNeighbors\n",
      "warnings.filterwarnings('ignore', message='kneighbors*')\n",
      "\n",
      "X = digits.data\n",
      "y = digits.target\n",
      "X_train, X_test, y_train, y_test = cross_validation.train_test_split(X, y, test_size=0.25, random_state=0)\n",
      "\n",
      "for Model in [LinearSVC, GaussianNB, KNeighborsClassifier]:\n",
      "    clf = Model().fit(X_train, y_train)\n",
      "    y_pred = clf.predict(X_test)\n",
      "    print Model.__name__, metrics.f1_score(y_test, y_pred)\n",
      "    \n",
      "print '------------------'\n",
      "\n",
      "# test SVC loss\n",
      "for loss in ['l1', 'l2']:\n",
      "    clf = LinearSVC(loss=loss).fit(X_train, y_train)\n",
      "    y_pred = clf.predict(X_test)\n",
      "    print \"LinearSVC(loss='{0}')\".format(loss), metrics.f1_score(y_test, y_pred)\n",
      "    \n",
      "print '-------------------'\n",
      "    \n",
      "# test K-neighbors\n",
      "for n_neighbors in range(1, 11):\n",
      "    clf = KNeighborsClassifier(n_neighbors=n_neighbors).fit(X_train, y_train)\n",
      "    y_pred = clf.predict(X_test)\n",
      "    print \"KNeighbors(n_neighbors={0})\".format(n_neighbors), metrics.f1_score(y_test, y_pred)\n"
     ],
     "language": "python",
     "metadata": {},
     "outputs": [
      {
       "output_type": "stream",
       "stream": "stdout",
       "text": [
        "LinearSVC 0.931617181161\n",
        "GaussianNB 0.803382474568\n",
        "KNeighborsClassifier"
       ]
      },
      {
       "output_type": "stream",
       "stream": "stdout",
       "text": [
        " 0.979917784003\n",
        "------------------\n",
        "LinearSVC(loss='l1')"
       ]
      },
      {
       "output_type": "stream",
       "stream": "stdout",
       "text": [
        " 0.929378122542\n",
        "LinearSVC(loss='l2')"
       ]
      },
      {
       "output_type": "stream",
       "stream": "stdout",
       "text": [
        " 0.933689218771\n",
        "-------------------\n",
        "KNeighbors(n_neighbors=1)"
       ]
      },
      {
       "output_type": "stream",
       "stream": "stdout",
       "text": [
        " 0.991110806604\n",
        "KNeighbors(n_neighbors=2)"
       ]
      },
      {
       "output_type": "stream",
       "stream": "stdout",
       "text": [
        " 0.984422949413\n",
        "KNeighbors(n_neighbors=3)"
       ]
      },
      {
       "output_type": "stream",
       "stream": "stdout",
       "text": [
        " 0.986663763724\n",
        "KNeighbors(n_neighbors=4)"
       ]
      },
      {
       "output_type": "stream",
       "stream": "stdout",
       "text": [
        " 0.979821911202\n",
        "KNeighbors(n_neighbors=5)"
       ]
      },
      {
       "output_type": "stream",
       "stream": "stdout",
       "text": [
        " 0.979917784003\n",
        "KNeighbors(n_neighbors=6)"
       ]
      },
      {
       "output_type": "stream",
       "stream": "stdout",
       "text": [
        " 0.975263084162\n",
        "KNeighbors(n_neighbors=7)"
       ]
      },
      {
       "output_type": "stream",
       "stream": "stdout",
       "text": [
        " 0.977567425957\n",
        "KNeighbors(n_neighbors=8)"
       ]
      },
      {
       "output_type": "stream",
       "stream": "stdout",
       "text": [
        " 0.977567425957\n",
        "KNeighbors(n_neighbors=9)"
       ]
      },
      {
       "output_type": "stream",
       "stream": "stdout",
       "text": [
        " 0.977567425957\n",
        "KNeighbors(n_neighbors=10)"
       ]
      },
      {
       "output_type": "stream",
       "stream": "stdout",
       "text": [
        " 0.975321110355\n"
       ]
      }
     ],
     "prompt_number": 12
    },
    {
     "cell_type": "heading",
     "level": 2,
     "metadata": {},
     "source": [
      "Cross-validation"
     ]
    },
    {
     "cell_type": "markdown",
     "metadata": {},
     "source": [
      "Cross-validation consists in repetively splitting the data in pairs of train and test sets, called 'folds'. Scikit-learn comes with a function to automatically compute score on all these folds. Here we do 'K-fold' with k=5."
     ]
    },
    {
     "cell_type": "code",
     "collapsed": false,
     "input": [
      "clf = KNeighborsClassifier()\n",
      "from sklearn.cross_validation import cross_val_score\n",
      "cross_val_score(clf, X, y, cv=5)"
     ],
     "language": "python",
     "metadata": {},
     "outputs": [
      {
       "output_type": "pyout",
       "prompt_number": 15,
       "text": [
        "array([ 0.9478022 ,  0.9558011 ,  0.96657382,  0.98039216,  0.96338028])"
       ]
      }
     ],
     "prompt_number": 13
    },
    {
     "cell_type": "markdown",
     "metadata": {},
     "source": [
      "We can use different splitting strategies, such as random splitting"
     ]
    },
    {
     "cell_type": "code",
     "collapsed": false,
     "input": [
      "from sklearn.cross_validation import ShuffleSplit\n",
      "cv = ShuffleSplit(n=len(X), n_iter=5)\n",
      "cross_val_score(clf, X, y, cv=cv)"
     ],
     "language": "python",
     "metadata": {},
     "outputs": [
      {
       "output_type": "pyout",
       "prompt_number": 16,
       "text": [
        "array([ 0.99444444,  1.        ,  0.98888889,  0.97777778,  0.98888889])"
       ]
      }
     ],
     "prompt_number": 14
    },
    {
     "cell_type": "markdown",
     "metadata": {},
     "source": [
      "There exists many different cross-validation strategies in scikit-learn. They are often useful to take in account non iid datasets."
     ]
    },
    {
     "cell_type": "heading",
     "level": 2,
     "metadata": {},
     "source": [
      "Hyperparameter optimization with cross-validation"
     ]
    },
    {
     "cell_type": "markdown",
     "metadata": {},
     "source": [
      "Consider regularized linear models, such as\n",
      "*Ridge Regression*, which uses $\\ell_2$ regularlization,\n",
      "and *Lasso Regression*, which uses $\\ell_1$ regularization. Choosing their regularization parameter is important.\n",
      "\n",
      "Let us set these paramaters on the Diabetes dataset, a simple regression problem. The diabetes data consists of 10 physiological variables (age, sex, weight, blood pressure) measure on 442 patients, and an indication of disease progression after one year:"
     ]
    },
    {
     "cell_type": "code",
     "collapsed": false,
     "input": [
      "from sklearn.datasets import load_diabetes\n",
      "data = load_diabetes()\n",
      "X, y = data.data, data.target\n",
      "print(X.shape)"
     ],
     "language": "python",
     "metadata": {},
     "outputs": [
      {
       "output_type": "stream",
       "stream": "stdout",
       "text": [
        "(442, 10)\n"
       ]
      }
     ],
     "prompt_number": 15
    },
    {
     "cell_type": "markdown",
     "metadata": {},
     "source": [
      "With the default hyper-parameters: we use the cross-validation score to determine goodness-of-fit:"
     ]
    },
    {
     "cell_type": "code",
     "collapsed": false,
     "input": [
      "from sklearn.linear_model import Ridge, Lasso\n",
      "\n",
      "for Model in [Ridge, Lasso]:\n",
      "    model = Model()\n",
      "    print(Model.__name__, cross_val_score(model, X, y).mean())"
     ],
     "language": "python",
     "metadata": {},
     "outputs": [
      {
       "output_type": "stream",
       "stream": "stdout",
       "text": [
        "('Ridge', 0.40942743830329892)\n",
        "('Lasso', 0.35380008329932028)\n"
       ]
      }
     ],
     "prompt_number": 16
    },
    {
     "cell_type": "heading",
     "level": 3,
     "metadata": {},
     "source": [
      "Basic Hyperparameter Optimization"
     ]
    },
    {
     "cell_type": "markdown",
     "metadata": {},
     "source": [
      "We compute the cross-validation score as a function of alpha, the strength of the regularization for Lasso and Ridge. We choose 20 values of alpha between 0.0001 and 1:"
     ]
    },
    {
     "cell_type": "code",
     "collapsed": false,
     "input": [
      "alphas = np.logspace(-3, -1, 30)\n",
      "\n",
      "for Model in [Lasso, Ridge]:\n",
      "    scores = [cross_val_score(Model(alpha), X, y, cv=3).mean()\n",
      "              for alpha in alphas]\n",
      "    plt.plot(alphas, scores, label=Model.__name__)\n",
      "plt.legend(loc='lower left')"
     ],
     "language": "python",
     "metadata": {},
     "outputs": [
      {
       "output_type": "pyout",
       "prompt_number": 19,
       "text": [
        "<matplotlib.legend.Legend at 0x2ad39bbed7d0>"
       ]
      },
      {
       "output_type": "display_data",
       "png": "[encoded data removed]",
       "text": [
        "<matplotlib.figure.Figure at 0x2ad39c359f50>"
       ]
      }
     ],
     "prompt_number": 17
    },
    {
     "cell_type": "markdown",
     "metadata": {},
     "source": [
      "Can we trust our results to be actually useful?"
     ]
    },
    {
     "cell_type": "heading",
     "level": 3,
     "metadata": {},
     "source": [
      "Automatically Performing Grid Search"
     ]
    },
    {
     "cell_type": "code",
     "collapsed": false,
     "input": [
      "from sklearn.grid_search import GridSearchCV"
     ],
     "language": "python",
     "metadata": {},
     "outputs": [],
     "prompt_number": 18
    },
    {
     "cell_type": "markdown",
     "metadata": {},
     "source": [
      "``GridSearchCV`` is constructed with an estimator, as well as a dictionary\n",
      "of parameter values to be searched.  We can find the optimal parameters this\n",
      "way:"
     ]
    },
    {
     "cell_type": "code",
     "collapsed": false,
     "input": [
      "for Model in [Ridge, Lasso]:\n",
      "    gscv = GridSearchCV(Model(), dict(alpha=alphas), cv=3).fit(X, y)\n",
      "    print(Model.__name__, gscv.best_params_)"
     ],
     "language": "python",
     "metadata": {},
     "outputs": [
      {
       "output_type": "stream",
       "stream": "stdout",
       "text": [
        "('Ridge', {'alpha': 0.062101694189156162})\n",
        "('Lasso', {'alpha': 0.01268961003167922})"
       ]
      },
      {
       "output_type": "stream",
       "stream": "stdout",
       "text": [
        "\n"
       ]
      }
     ],
     "prompt_number": 19
    },
    {
     "cell_type": "heading",
     "level": 3,
     "metadata": {},
     "source": [
      "Built-in Hyperparameter Search"
     ]
    },
    {
     "cell_type": "markdown",
     "metadata": {},
     "source": [
      "For some models within scikit-learn, cross-validation can be performed more efficiently\n",
      "on large datasets.  In this case, a cross-validated version of the particular model is\n",
      "included.  The cross-validated versions of ``Ridge`` and ``Lasso`` are ``RidgeCV`` and\n",
      "``LassoCV``, respectively.  The grid search on these estimators can be performed as\n",
      "follows:"
     ]
    },
    {
     "cell_type": "code",
     "collapsed": false,
     "input": [
      "from sklearn.linear_model import RidgeCV, LassoCV\n",
      "for Model in [RidgeCV, LassoCV]:\n",
      "    model = Model(alphas=alphas, cv=3).fit(X, y)\n",
      "    print(Model.__name__, model.alpha_)"
     ],
     "language": "python",
     "metadata": {},
     "outputs": [
      {
       "output_type": "stream",
       "stream": "stdout",
       "text": [
        "('RidgeCV', 0.062101694189156162)\n",
        "('LassoCV', 0.01268961003167922)\n"
       ]
      }
     ],
     "prompt_number": 20
    },
    {
     "cell_type": "markdown",
     "metadata": {},
     "source": [
      "We see that the results match those returned by GridSearchCV"
     ]
    },
    {
     "cell_type": "heading",
     "level": 3,
     "metadata": {},
     "source": [
      "Nested cross-validation"
     ]
    },
    {
     "cell_type": "markdown",
     "metadata": {},
     "source": [
      "How do we measure the performance of these estimators? We have used data to set the hyperparameters, so we need to test on actually new data. We can do this by running `cross_val_score` on our CV objects. Here there are 2 cross-validation loops going on, this is called 'nested cross validation':"
     ]
    },
    {
     "cell_type": "code",
     "collapsed": false,
     "input": [
      "for Model in [RidgeCV, LassoCV]:\n",
      "    scores = cross_val_score(Model(alphas=alphas, cv=3), X, y, cv=3)\n",
      "    print(Model.__name__, np.mean(scores))"
     ],
     "language": "python",
     "metadata": {},
     "outputs": [
      {
       "output_type": "stream",
       "stream": "stdout",
       "text": [
        "('RidgeCV', 0.48916142454965544)\n",
        "('LassoCV', 0.48549139668647595)\n"
       ]
      }
     ],
     "prompt_number": 21
    },
    {
     "cell_type": "markdown",
     "metadata": {},
     "source": [
      "Note that these results do not match the best results of our curves above, and `LassoCV` seems to under-perform `RidgeCV`. The reason is that setting the hyper-parameter is harder for Lasso, thus the estimation error on this hyper-parameter is larger."
     ]
    },
    {
     "cell_type": "code",
     "collapsed": false,
     "input": [],
     "language": "python",
     "metadata": {},
     "outputs": [],
     "prompt_number": 22
    }
   ],
   "metadata": {}
  }
 ]
}