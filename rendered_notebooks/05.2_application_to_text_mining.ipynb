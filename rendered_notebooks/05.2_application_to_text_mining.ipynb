{
 "metadata": {
  "name": ""
 },
 "nbformat": 3,
 "nbformat_minor": 0,
 "worksheets": [
  {
   "cells": [
    {
     "cell_type": "code",
     "collapsed": false,
     "input": [
      "%matplotlib inline\n",
      "from matplotlib import pyplot as plt\n",
      "import numpy as np\n",
      "\n",
      "# Some nice default configuration for plots\n",
      "plt.rcParams['figure.figsize'] = 10, 7.5\n",
      "plt.rcParams['axes.grid'] = True\n",
      "plt.gray()"
     ],
     "language": "python",
     "metadata": {},
     "outputs": [
      {
       "output_type": "display_data",
       "text": [
        "<matplotlib.figure.Figure at 0x1ef3410>"
       ]
      }
     ],
     "prompt_number": 0
    },
    {
     "cell_type": "heading",
     "level": 1,
     "metadata": {},
     "source": [
      "Text Feature Extraction for Classification and Clustering"
     ]
    },
    {
     "cell_type": "markdown",
     "metadata": {},
     "source": [
      "Outline of this section:\n",
      "\n",
      "- Turn a corpus of text documents into **feature vectors** using a **Bag of Words** representation,\n",
      "- Train a simple text classifier on the feature vectors,\n",
      "- Wrap the vectorizer and the classifier with a **pipeline**,\n",
      "- Cross-validation and (manual) **model selection** on the pipeline.\n",
      "- Qualitative **model inspection**"
     ]
    },
    {
     "cell_type": "heading",
     "level": 2,
     "metadata": {},
     "source": [
      "Text Classification in 20 lines of Python"
     ]
    },
    {
     "cell_type": "markdown",
     "metadata": {},
     "source": [
      "Let's start by implementing a canonical text classification example:\n",
      "\n",
      "- The 20 newsgroups dataset: around 18000 text posts from 20 newsgroups forums\n",
      "- Bag of Words features extraction with TF-IDF weighting\n",
      "- Naive Bayes classifier or Linear Support Vector Machine for the classifier itself"
     ]
    },
    {
     "cell_type": "code",
     "collapsed": false,
     "input": [
      "from sklearn.datasets import load_files\n",
      "from sklearn.feature_extraction.text import TfidfVectorizer\n",
      "from sklearn.naive_bayes import MultinomialNB\n",
      "\n",
      "# Load the text data\n",
      "categories = [\n",
      "    'alt.atheism',\n",
      "    'talk.religion.misc',\n",
      "    'comp.graphics',\n",
      "    'sci.space',\n",
      "]\n",
      "twenty_train_subset = load_files('datasets/20news-bydate-train/',\n",
      "    categories=categories, charset='latin-1')\n",
      "twenty_test_subset = load_files('datasets/20news-bydate-test/',\n",
      "    categories=categories, charset='latin-1')\n",
      "\n",
      "# Turn the text documents into vectors of word frequencies\n",
      "vectorizer = TfidfVectorizer(min_df=2)\n",
      "X_train = vectorizer.fit_transform(twenty_train_subset.data)\n",
      "y_train = twenty_train_subset.target\n",
      "\n",
      "# Fit a classifier on the training set\n",
      "classifier = MultinomialNB().fit(X_train, y_train)\n",
      "print(\"Training score: {0:.1f}%\".format(\n",
      "    classifier.score(X_train, y_train) * 100))\n",
      "\n",
      "# Evaluate the classifier on the testing set\n",
      "X_test = vectorizer.transform(twenty_test_subset.data)\n",
      "y_test = twenty_test_subset.target\n",
      "print(\"Testing score: {0:.1f}%\".format(\n",
      "    classifier.score(X_test, y_test) * 100))"
     ],
     "language": "python",
     "metadata": {},
     "outputs": [
      {
       "output_type": "stream",
       "stream": "stderr",
       "text": [
        "/usr/lib/python2.7/dist-packages/scipy/stats/distributions.py:32: RuntimeWarning: numpy.ufunc size changed, may indicate binary incompatibility\n",
        "  from . import vonmises_cython\n",
        "/usr/lib/python2.7/dist-packages/scipy/spatial/__init__.py:88: RuntimeWarning: numpy.ufunc size changed, may indicate binary incompatibility\n",
        "  from .ckdtree import *\n",
        "/usr/lib/python2.7/dist-packages/scipy/spatial/__init__.py:89: RuntimeWarning: numpy.ufunc size changed, may indicate binary incompatibility\n",
        "  from .qhull import *\n",
        "/usr/lib/python2.7/dist-packages/scipy/stats/stats.py:251: RuntimeWarning: numpy.ufunc size changed, may indicate binary incompatibility\n",
        "  from ._rank import rankdata, tiecorrect\n",
        "/home/varoquau/dev/scikit-learn/sklearn/datasets/base.py:162: DeprecationWarning: The charset parameter is deprecated as of version 0.14 and will be removed in 0.16. Use encoding instead.\n",
        "  DeprecationWarning)\n"
       ]
      },
      {
       "output_type": "stream",
       "stream": "stdout",
       "text": [
        "Training score: 95.1%\n",
        "Testing score: 85.1%"
       ]
      },
      {
       "output_type": "stream",
       "stream": "stdout",
       "text": [
        "\n"
       ]
      },
      {
       "output_type": "stream",
       "stream": "stderr",
       "text": [
        "/home/varoquau/dev/numpy/numpy/core/fromnumeric.py:2499: VisibleDeprecationWarning: `rank` is deprecated; use the `ndim` attribute or function instead. To find the rank of a matrix see `numpy.linalg.matrix_rank`.\n",
        "  VisibleDeprecationWarning)\n"
       ]
      }
     ],
     "prompt_number": 1
    },
    {
     "cell_type": "markdown",
     "metadata": {},
     "source": [
      "Here is a workflow diagram summary of what happened previously:"
     ]
    },
    {
     "cell_type": "code",
     "collapsed": false,
     "input": [
      "from IPython.core.display import Image, display\n",
      "display(Image(filename='figures/supervised_scikit_learn.png'))"
     ],
     "language": "python",
     "metadata": {},
     "outputs": [
      {
       "output_type": "display_data",
       "png": "[encoded data removed]",
       "text": [
        "<IPython.core.display.Image at 0x5a84250>"
       ]
      }
     ],
     "prompt_number": 2
    },
    {
     "cell_type": "markdown",
     "metadata": {},
     "source": [
      "Let's now decompose what we just did to understand and customize each step:"
     ]
    },
    {
     "cell_type": "heading",
     "level": 3,
     "metadata": {},
     "source": [
      "Loading the Dataset"
     ]
    },
    {
     "cell_type": "markdown",
     "metadata": {},
     "source": [
      "Let's explore the dataset loading utility without passing a list of categories: in this case we load the full 20 newsgroups dataset in memory. The source website for the 20 newsgroups already provides a date-based train / test split that is made available using the `subset` keyword argument: "
     ]
    },
    {
     "cell_type": "code",
     "collapsed": false,
     "input": [
      "ls -l datasets/"
     ],
     "language": "python",
     "metadata": {},
     "outputs": [
      {
       "output_type": "stream",
       "stream": "stdout",
       "text": [
        "total 93608\r\n",
        "-rw-r--r--  1 varoquau varoquau 14464277 Jul 21 09:49 \u001b[0m\u001b[31m20news-bydate.tar.gz\u001b[0m\r\n",
        "drwxr-xr-x 22 varoquau varoquau     4096 Mar 18  2003 \u001b[01;34m20news-bydate-test\u001b[0m/\r\n",
        "drwxr-xr-x 22 varoquau varoquau     4096 Mar 18  2003 \u001b[01;34m20news-bydate-train\u001b[0m/\r\n",
        "lrwxrwxrwx  1 varoquau varoquau       41 Jul 21 10:03 \u001b[36mlfw_home\u001b[0m -> \u001b[01;34m/home/varoquau/scikit_learn_data/lfw_home\u001b[0m/\r\n",
        "drwxr-xr-x  2 varoquau varoquau     4096 Jul 21 10:01 \u001b[01;34msentiment140\u001b[0m/\r\n",
        "-rw-r--r--  1 varoquau varoquau 81363704 Apr 22  2012 \u001b[31mtrainingandtestdata.zip\u001b[0m\r\n"
       ]
      }
     ],
     "prompt_number": 3
    },
    {
     "cell_type": "code",
     "collapsed": false,
     "input": [
      "ls -lh datasets/20news-bydate-train"
     ],
     "language": "python",
     "metadata": {},
     "outputs": [
      {
       "output_type": "stream",
       "stream": "stdout",
       "text": [
        "total 368K\r\n",
        "drwxr-xr-x 2 varoquau varoquau 12K Mar 18  2003 \u001b[0m\u001b[01;34malt.atheism\u001b[0m/\r\n",
        "drwxr-xr-x 2 varoquau varoquau 20K Mar 18  2003 \u001b[01;34mcomp.graphics\u001b[0m/\r\n",
        "drwxr-xr-x 2 varoquau varoquau 12K Mar 18  2003 \u001b[01;34mcomp.os.ms-windows.misc\u001b[0m/\r\n",
        "drwxr-xr-x 2 varoquau varoquau 20K Mar 18  2003 \u001b[01;34mcomp.sys.ibm.pc.hardware\u001b[0m/\r\n",
        "drwxr-xr-x 2 varoquau varoquau 20K Mar 18  2003 \u001b[01;34mcomp.sys.mac.hardware\u001b[0m/\r\n",
        "drwxr-xr-x 2 varoquau varoquau 20K Mar 18  2003 \u001b[01;34mcomp.windows.x\u001b[0m/\r\n",
        "drwxr-xr-x 2 varoquau varoquau 20K Mar 18  2003 \u001b[01;34mmisc.forsale\u001b[0m/\r\n",
        "drwxr-xr-x 2 varoquau varoquau 20K Mar 18  2003 \u001b[01;34mrec.autos\u001b[0m/\r\n",
        "drwxr-xr-x 2 varoquau varoquau 20K Mar 18  2003 \u001b[01;34mrec.motorcycles\u001b[0m/\r\n",
        "drwxr-xr-x 2 varoquau varoquau 20K Mar 18  2003 \u001b[01;34mrec.sport.baseball\u001b[0m/\r\n",
        "drwxr-xr-x 2 varoquau varoquau 20K Mar 18  2003 \u001b[01;34mrec.sport.hockey\u001b[0m/\r\n",
        "drwxr-xr-x 2 varoquau varoquau 20K Mar 18  2003 \u001b[01;34msci.crypt\u001b[0m/\r\n",
        "drwxr-xr-x 2 varoquau varoquau 20K Mar 18  2003 \u001b[01;34msci.electronics\u001b[0m/\r\n",
        "drwxr-xr-x 2 varoquau varoquau 20K Mar 18  2003 \u001b[01;34msci.med\u001b[0m/\r\n",
        "drwxr-xr-x 2 varoquau varoquau 20K Mar 18  2003 \u001b[01;34msci.space\u001b[0m/\r\n",
        "drwxr-xr-x 2 varoquau varoquau 20K Mar 18  2003 \u001b[01;34msoc.religion.christian\u001b[0m/\r\n",
        "drwxr-xr-x 2 varoquau varoquau 20K Mar 18  2003 \u001b[01;34mtalk.politics.guns\u001b[0m/\r\n",
        "drwxr-xr-x 2 varoquau varoquau 20K Mar 18  2003 \u001b[01;34mtalk.politics.mideast\u001b[0m/\r\n",
        "drwxr-xr-x 2 varoquau varoquau 12K Mar 18  2003 \u001b[01;34mtalk.politics.misc\u001b[0m/\r\n",
        "drwxr-xr-x 2 varoquau varoquau 12K Mar 18  2003 \u001b[01;34mtalk.religion.misc\u001b[0m/\r\n"
       ]
      }
     ],
     "prompt_number": 4
    },
    {
     "cell_type": "code",
     "collapsed": false,
     "input": [
      "ls -lh datasets/20news-bydate-train/alt.atheism/"
     ],
     "language": "python",
     "metadata": {},
     "outputs": [
      {
       "output_type": "stream",
       "stream": "stdout",
       "text": [
        "total 2.2M\r\n",
        "-rw-r--r-- 1 varoquau varoquau  12K Mar 18  2003 \u001b[0m\u001b[00m49960\u001b[0m\r\n",
        "-rw-r--r-- 1 varoquau varoquau  32K Mar 18  2003 \u001b[00m51060\u001b[0m\r\n",
        "-rw-r--r-- 1 varoquau varoquau 4.0K Mar 18  2003 \u001b[00m51119\u001b[0m\r\n",
        "-rw-r--r-- 1 varoquau varoquau 1.6K Mar 18  2003 \u001b[00m51120\u001b[0m\r\n",
        "-rw-r--r-- 1 varoquau varoquau  773 Mar 18  2003 \u001b[00m51121\u001b[0m\r\n",
        "-rw-r--r-- 1 varoquau varoquau 4.8K Mar 18  2003 \u001b[00m51122\u001b[0m\r\n",
        "-rw-r--r-- 1 varoquau varoquau  618 Mar 18  2003 \u001b[00m51123\u001b[0m\r\n",
        "-rw-r--r-- 1 varoquau varoquau 1.5K Mar 18  2003 \u001b[00m51124\u001b[0m\r\n",
        "-rw-r--r-- 1 varoquau varoquau 2.7K Mar 18  2003 \u001b[00m51125\u001b[0m\r\n",
        "-rw-r--r-- 1 varoquau varoquau  427 Mar 18  2003 \u001b[00m51126\u001b[0m\r\n",
        "-rw-r--r-- 1 varoquau varoquau  742 Mar 18  2003 \u001b[00m51127\u001b[0m\r\n",
        "-rw-r--r-- 1 varoquau varoquau  650 Mar 18  2003 \u001b[00m51128\u001b[0m\r\n",
        "-rw-r--r-- 1 varoquau varoquau 1.4K Mar 18  2003 \u001b[00m51130\u001b[0m\r\n",
        "-rw-r--r-- 1 varoquau varoquau 2.3K Mar 18  2003 \u001b[00m51131\u001b[0m\r\n",
        "-rw-r--r-- 1 varoquau varoquau 2.7K Mar 18  2003 \u001b[00m51132\u001b[0m\r\n",
        "-rw-r--r-- 1 varoquau varoquau 1.6K Mar 18  2003 \u001b[00m51133\u001b[0m\r\n",
        "-rw-r--r-- 1 varoquau varoquau 1.2K Mar 18  2003 \u001b[00m51134\u001b[0m\r\n",
        "-rw-r--r-- 1 varoquau varoquau 1.6K Mar 18  2003 \u001b[00m51135\u001b[0m\r\n",
        "-rw-r--r-- 1 varoquau varoquau 2.2K Mar 18  2003 \u001b[00m51136\u001b[0m\r\n",
        "-rw-r--r-- 1 varoquau varoquau 1.4K Mar 18  2003 \u001b[00m51139\u001b[0m\r\n",
        "-rw-r--r-- 1 varoquau varoquau  409 Mar 18  2003 \u001b[00m51140\u001b[0m\r\n",
        "-rw-r--r-- 1 varoquau varoquau  940 Mar 18  2003 \u001b[00m51141\u001b[0m\r\n",
        "-rw-r--r-- 1 varoquau varoquau 9.0K Mar 18  2003 \u001b[00m51142\u001b[0m\r\n",
        "-rw-r--r-- 1 varoquau varoquau  632 Mar 18  2003 \u001b[00m51143\u001b[0m\r\n",
        "-rw-r--r-- 1 varoquau varoquau 1.2K Mar 18  2003 \u001b[00m51144\u001b[0m\r\n",
        "-rw-r--r-- 1 varoquau varoquau  609 Mar 18  2003 \u001b[00m51145\u001b[0m\r\n",
        "-rw-r--r-- 1 varoquau varoquau  631 Mar 18  2003 \u001b[00m51146\u001b[0m\r\n",
        "-rw-r--r-- 1 varoquau varoquau 1.1K Mar 18  2003 \u001b[00m51147\u001b[0m\r\n",
        "-rw-r--r-- 1 varoquau varoquau 1.9K Mar 18  2003 \u001b[00m51148\u001b[0m\r\n",
        "-rw-r--r-- 1 varoquau varoquau  405 Mar 18  2003 \u001b[00m51149\u001b[0m\r\n",
        "-rw-r--r-- 1 varoquau varoquau  696 Mar 18  2003 \u001b[00m51150\u001b[0m\r\n",
        "-rw-r--r-- 1 varoquau varoquau 5.5K Mar 18  2003 \u001b[00m51151\u001b[0m\r\n",
        "-rw-r--r-- 1 varoquau varoquau 1.4K Mar 18  2003 \u001b[00m51152\u001b[0m\r\n",
        "-rw-r--r-- 1 varoquau varoquau 5.1K Mar 18  2003 \u001b[00m51153\u001b[0m\r\n",
        "-rw-r--r-- 1 varoquau varoquau 1.4K Mar 18  2003 \u001b[00m51154\u001b[0m\r\n",
        "-rw-r--r-- 1 varoquau varoquau 1.6K Mar 18  2003 \u001b[00m51155\u001b[0m\r\n",
        "-rw-r--r-- 1 varoquau varoquau 5.0K Mar 18  2003 \u001b[00m51156\u001b[0m\r\n",
        "-rw-r--r-- 1 varoquau varoquau 1.8K Mar 18  2003 \u001b[00m51157\u001b[0m\r\n",
        "-rw-r--r-- 1 varoquau varoquau  604 Mar 18  2003 \u001b[00m51158\u001b[0m\r\n",
        "-rw-r--r-- 1 varoquau varoquau 1.5K Mar 18  2003 \u001b[00m51159\u001b[0m\r\n",
        "-rw-r--r-- 1 varoquau varoquau 1.1K Mar 18  2003 \u001b[00m51160\u001b[0m\r\n",
        "-rw-r--r-- 1 varoquau varoquau 1.4K Mar 18  2003 \u001b[00m51161\u001b[0m\r\n",
        "-rw-r--r-- 1 varoquau varoquau 3.0K Mar 18  2003 \u001b[00m51162\u001b[0m\r\n",
        "-rw-r--r-- 1 varoquau varoquau 1.1K Mar 18  2003 \u001b[00m51163\u001b[0m\r\n",
        "-rw-r--r-- 1 varoquau varoquau 2.4K Mar 18  2003 \u001b[00m51164\u001b[0m\r\n",
        "-rw-r--r-- 1 varoquau varoquau 4.9K Mar 18  2003 \u001b[00m51165\u001b[0m\r\n",
        "-rw-r--r-- 1 varoquau varoquau 1.2K Mar 18  2003 \u001b[00m51169\u001b[0m\r\n",
        "-rw-r--r-- 1 varoquau varoquau  868 Mar 18  2003 \u001b[00m51170\u001b[0m\r\n",
        "-rw-r--r-- 1 varoquau varoquau  721 Mar 18  2003 \u001b[00m51171\u001b[0m\r\n",
        "-rw-r--r-- 1 varoquau varoquau 3.0K Mar 18  2003 \u001b[00m51172\u001b[0m\r\n",
        "-rw-r--r-- 1 varoquau varoquau 1.9K Mar 18  2003 \u001b[00m51173\u001b[0m\r\n",
        "-rw-r--r-- 1 varoquau varoquau  645 Mar 18  2003 \u001b[00m51174\u001b[0m\r\n",
        "-rw-r--r-- 1 varoquau varoquau 2.4K Mar 18  2003 \u001b[00m51175\u001b[0m\r\n",
        "-rw-r--r-- 1 varoquau varoquau 2.9K Mar 18  2003 \u001b[00m51176\u001b[0m\r\n",
        "-rw-r--r-- 1 varoquau varoquau 1.3K Mar 18  2003 \u001b[00m51177\u001b[0m\r\n",
        "-rw-r--r-- 1 varoquau varoquau  879 Mar 18  2003 \u001b[00m51178\u001b[0m\r\n",
        "-rw-r--r-- 1 varoquau varoquau 1.3K Mar 18  2003 \u001b[00m51179\u001b[0m\r\n",
        "-rw-r--r-- 1 varoquau varoquau  994 Mar 18  2003 \u001b[00m51180\u001b[0m\r\n",
        "-rw-r--r-- 1 varoquau varoquau 1.3K Mar 18  2003 \u001b[00m51181\u001b[0m\r\n",
        "-rw-r--r-- 1 varoquau varoquau 2.3K Mar 18  2003 \u001b[00m51182\u001b[0m\r\n",
        "-rw-r--r-- 1 varoquau varoquau 1.8K Mar 18  2003 \u001b[00m51183\u001b[0m\r\n",
        "-rw-r--r-- 1 varoquau varoquau 1018 Mar 18  2003 \u001b[00m51184\u001b[0m\r\n",
        "-rw-r--r-- 1 varoquau varoquau 1.3K Mar 18  2003 \u001b[00m51185\u001b[0m\r\n",
        "-rw-r--r-- 1 varoquau varoquau  949 Mar 18  2003 \u001b[00m51186\u001b[0m\r\n",
        "-rw-r--r-- 1 varoquau varoquau 1.9K Mar 18  2003 \u001b[00m51187\u001b[0m\r\n",
        "-rw-r--r-- 1 varoquau varoquau 1.2K Mar 18  2003 \u001b[00m51188\u001b[0m\r\n",
        "-rw-r--r-- 1 varoquau varoquau  834 Mar 18  2003 \u001b[00m51189\u001b[0m\r\n",
        "-rw-r--r-- 1 varoquau varoquau  895 Mar 18  2003 \u001b[00m51190\u001b[0m\r\n",
        "-rw-r--r-- 1 varoquau varoquau  776 Mar 18  2003 \u001b[00m51191\u001b[0m\r\n",
        "-rw-r--r-- 1 varoquau varoquau 1.7K Mar 18  2003 \u001b[00m51192\u001b[0m\r\n",
        "-rw-r--r-- 1 varoquau varoquau 1.9K Mar 18  2003 \u001b[00m51193\u001b[0m\r\n",
        "-rw-r--r-- 1 varoquau varoquau 1.5K Mar 18  2003 \u001b[00m51194\u001b[0m\r\n",
        "-rw-r--r-- 1 varoquau varoquau  964 Mar 18  2003 \u001b[00m51195\u001b[0m\r\n",
        "-rw-r--r-- 1 varoquau varoquau 2.4K Mar 18  2003 \u001b[00m51196\u001b[0m\r\n",
        "-rw-r--r-- 1 varoquau varoquau  759 Mar 18  2003 \u001b[00m51197\u001b[0m\r\n",
        "-rw-r--r-- 1 varoquau varoquau 1.5K Mar 18  2003 \u001b[00m51198\u001b[0m\r\n",
        "-rw-r--r-- 1 varoquau varoquau 1.1K Mar 18  2003 \u001b[00m51199\u001b[0m\r\n",
        "-rw-r--r-- 1 varoquau varoquau 1.9K Mar 18  2003 \u001b[00m51200\u001b[0m\r\n",
        "-rw-r--r-- 1 varoquau varoquau  916 Mar 18  2003 \u001b[00m51201\u001b[0m\r\n",
        "-rw-r--r-- 1 varoquau varoquau 1.9K Mar 18  2003 \u001b[00m51202\u001b[0m\r\n",
        "-rw-r--r-- 1 varoquau varoquau 1.5K Mar 18  2003 \u001b[00m51203\u001b[0m\r\n",
        "-rw-r--r-- 1 varoquau varoquau  846 Mar 18  2003 \u001b[00m51204\u001b[0m\r\n",
        "-rw-r--r-- 1 varoquau varoquau 1.4K Mar 18  2003 \u001b[00m51205\u001b[0m\r\n",
        "-rw-r--r-- 1 varoquau varoquau  881 Mar 18  2003 \u001b[00m51206\u001b[0m\r\n",
        "-rw-r--r-- 1 varoquau varoquau 6.3K Mar 18  2003 \u001b[00m51208\u001b[0m\r\n",
        "-rw-r--r-- 1 varoquau varoquau 1.7K Mar 18  2003 \u001b[00m51209\u001b[0m\r\n",
        "-rw-r--r-- 1 varoquau varoquau 1.8K Mar 18  2003 \u001b[00m51210\u001b[0m\r\n",
        "-rw-r--r-- 1 varoquau varoquau  11K Mar 18  2003 \u001b[00m51211\u001b[0m\r\n",
        "-rw-r--r-- 1 varoquau varoquau 2.6K Mar 18  2003 \u001b[00m51212\u001b[0m\r\n",
        "-rw-r--r-- 1 varoquau varoquau 1.6K Mar 18  2003 \u001b[00m51213\u001b[0m\r\n",
        "-rw-r--r-- 1 varoquau varoquau  636 Mar 18  2003 \u001b[00m51214\u001b[0m\r\n",
        "-rw-r--r-- 1 varoquau varoquau  989 Mar 18  2003 \u001b[00m51215\u001b[0m\r\n",
        "-rw-r--r-- 1 varoquau varoquau  668 Mar 18  2003 \u001b[00m51216\u001b[0m\r\n",
        "-rw-r--r-- 1 varoquau varoquau 2.8K Mar 18  2003 \u001b[00m51217\u001b[0m\r\n",
        "-rw-r--r-- 1 varoquau varoquau 1.8K Mar 18  2003 \u001b[00m51218\u001b[0m\r\n",
        "-rw-r--r-- 1 varoquau varoquau  905 Mar 18  2003 \u001b[00m51219\u001b[0m\r\n",
        "-rw-r--r-- 1 varoquau varoquau 2.4K Mar 18  2003 \u001b[00m51220\u001b[0m\r\n",
        "-rw-r--r-- 1 varoquau varoquau 1001 Mar 18  2003 \u001b[00m51221\u001b[0m\r\n",
        "-rw-r--r-- 1 varoquau varoquau 1.8K Mar 18  2003 \u001b[00m51222\u001b[0m\r\n",
        "-rw-r--r-- 1 varoquau varoquau 1.1K Mar 18  2003 \u001b[00m51223\u001b[0m\r\n",
        "-rw-r--r-- 1 varoquau varoquau 2.2K Mar 18  2003 \u001b[00m51224\u001b[0m\r\n",
        "-rw-r--r-- 1 varoquau varoquau 1.6K Mar 18  2003 \u001b[00m51225\u001b[0m\r\n",
        "-rw-r--r-- 1 varoquau varoquau 3.5K Mar 18  2003 \u001b[00m51226\u001b[0m\r\n",
        "-rw-r--r-- 1 varoquau varoquau  704 Mar 18  2003 \u001b[00m51227\u001b[0m\r\n",
        "-rw-r--r-- 1 varoquau varoquau  949 Mar 18  2003 \u001b[00m51228\u001b[0m\r\n",
        "-rw-r--r-- 1 varoquau varoquau  714 Mar 18  2003 \u001b[00m51229\u001b[0m\r\n",
        "-rw-r--r-- 1 varoquau varoquau  966 Mar 18  2003 \u001b[00m51230\u001b[0m\r\n",
        "-rw-r--r-- 1 varoquau varoquau 2.9K Mar 18  2003 \u001b[00m51231\u001b[0m\r\n",
        "-rw-r--r-- 1 varoquau varoquau  871 Mar 18  2003 \u001b[00m51232\u001b[0m\r\n",
        "-rw-r--r-- 1 varoquau varoquau 1.1K Mar 18  2003 \u001b[00m51233\u001b[0m\r\n",
        "-rw-r--r-- 1 varoquau varoquau 1.5K Mar 18  2003 \u001b[00m51234\u001b[0m\r\n",
        "-rw-r--r-- 1 varoquau varoquau 2.5K Mar 18  2003 \u001b[00m51235\u001b[0m\r\n",
        "-rw-r--r-- 1 varoquau varoquau 1.3K Mar 18  2003 \u001b[00m51236\u001b[0m\r\n",
        "-rw-r--r-- 1 varoquau varoquau  564 Mar 18  2003 \u001b[00m51237\u001b[0m\r\n",
        "-rw-r--r-- 1 varoquau varoquau  12K Mar 18  2003 \u001b[00m51238\u001b[0m\r\n",
        "-rw-r--r-- 1 varoquau varoquau 1.3K Mar 18  2003 \u001b[00m51239\u001b[0m\r\n",
        "-rw-r--r-- 1 varoquau varoquau  749 Mar 18  2003 \u001b[00m51240\u001b[0m\r\n",
        "-rw-r--r-- 1 varoquau varoquau  932 Mar 18  2003 \u001b[00m51241\u001b[0m\r\n",
        "-rw-r--r-- 1 varoquau varoquau 1.3K Mar 18  2003 \u001b[00m51242\u001b[0m\r\n",
        "-rw-r--r-- 1 varoquau varoquau 2.2K Mar 18  2003 \u001b[00m51243\u001b[0m\r\n",
        "-rw-r--r-- 1 varoquau varoquau  554 Mar 18  2003 \u001b[00m51244\u001b[0m\r\n",
        "-rw-r--r-- 1 varoquau varoquau 1.4K Mar 18  2003 \u001b[00m51245\u001b[0m\r\n",
        "-rw-r--r-- 1 varoquau varoquau 1.8K Mar 18  2003 \u001b[00m51246\u001b[0m\r\n",
        "-rw-r--r-- 1 varoquau varoquau 1.8K Mar 18  2003 \u001b[00m51247\u001b[0m\r\n",
        "-rw-r--r-- 1 varoquau varoquau 1.6K Mar 18  2003 \u001b[00m51249\u001b[0m\r\n",
        "-rw-r--r-- 1 varoquau varoquau 2.8K Mar 18  2003 \u001b[00m51250\u001b[0m\r\n",
        "-rw-r--r-- 1 varoquau varoquau  570 Mar 18  2003 \u001b[00m51251\u001b[0m\r\n",
        "-rw-r--r-- 1 varoquau varoquau 1.9K Mar 18  2003 \u001b[00m51252\u001b[0m\r\n",
        "-rw-r--r-- 1 varoquau varoquau 3.2K Mar 18  2003 \u001b[00m51253\u001b[0m\r\n",
        "-rw-r--r-- 1 varoquau varoquau 2.9K Mar 18  2003 \u001b[00m51254\u001b[0m\r\n",
        "-rw-r--r-- 1 varoquau varoquau  748 Mar 18  2003 \u001b[00m51255\u001b[0m\r\n",
        "-rw-r--r-- 1 varoquau varoquau 2.4K Mar 18  2003 \u001b[00m51256\u001b[0m\r\n",
        "-rw-r--r-- 1 varoquau varoquau 1.3K Mar 18  2003 \u001b[00m51258\u001b[0m\r\n",
        "-rw-r--r-- 1 varoquau varoquau 1.8K Mar 18  2003 \u001b[00m51259\u001b[0m\r\n",
        "-rw-r--r-- 1 varoquau varoquau 6.3K Mar 18  2003 \u001b[00m51260\u001b[0m\r\n",
        "-rw-r--r-- 1 varoquau varoquau 1.6K Mar 18  2003 \u001b[00m51261\u001b[0m\r\n",
        "-rw-r--r-- 1 varoquau varoquau 1.4K Mar 18  2003 \u001b[00m51262\u001b[0m\r\n",
        "-rw-r--r-- 1 varoquau varoquau 1.2K Mar 18  2003 \u001b[00m51265\u001b[0m\r\n",
        "-rw-r--r-- 1 varoquau varoquau  456 Mar 18  2003 \u001b[00m51266\u001b[0m\r\n",
        "-rw-r--r-- 1 varoquau varoquau  816 Mar 18  2003 \u001b[00m51267\u001b[0m\r\n",
        "-rw-r--r-- 1 varoquau varoquau 2.4K Mar 18  2003 \u001b[00m51268\u001b[0m\r\n",
        "-rw-r--r-- 1 varoquau varoquau 1.1K Mar 18  2003 \u001b[00m51269\u001b[0m\r\n",
        "-rw-r--r-- 1 varoquau varoquau 3.4K Mar 18  2003 \u001b[00m51270\u001b[0m\r\n",
        "-rw-r--r-- 1 varoquau varoquau 1.4K Mar 18  2003 \u001b[00m51271\u001b[0m\r\n",
        "-rw-r--r-- 1 varoquau varoquau 2.0K Mar 18  2003 \u001b[00m51272\u001b[0m\r\n",
        "-rw-r--r-- 1 varoquau varoquau  790 Mar 18  2003 \u001b[00m51273\u001b[0m\r\n",
        "-rw-r--r-- 1 varoquau varoquau 1.6K Mar 18  2003 \u001b[00m51274\u001b[0m\r\n",
        "-rw-r--r-- 1 varoquau varoquau 2.5K Mar 18  2003 \u001b[00m51275\u001b[0m\r\n",
        "-rw-r--r-- 1 varoquau varoquau 4.5K Mar 18  2003 \u001b[00m51276\u001b[0m\r\n",
        "-rw-r--r-- 1 varoquau varoquau 1.6K Mar 18  2003 \u001b[00m51277\u001b[0m\r\n",
        "-rw-r--r-- 1 varoquau varoquau 6.2K Mar 18  2003 \u001b[00m51278\u001b[0m\r\n",
        "-rw-r--r-- 1 varoquau varoquau  963 Mar 18  2003 \u001b[00m51279\u001b[0m\r\n",
        "-rw-r--r-- 1 varoquau varoquau 2.1K Mar 18  2003 \u001b[00m51280\u001b[0m\r\n",
        "-rw-r--r-- 1 varoquau varoquau 1.1K Mar 18  2003 \u001b[00m51281\u001b[0m\r\n",
        "-rw-r--r-- 1 varoquau varoquau  618 Mar 18  2003 \u001b[00m51282\u001b[0m\r\n",
        "-rw-r--r-- 1 varoquau varoquau 2.8K Mar 18  2003 \u001b[00m51283\u001b[0m\r\n",
        "-rw-r--r-- 1 varoquau varoquau 1022 Mar 18  2003 \u001b[00m51284\u001b[0m\r\n",
        "-rw-r--r-- 1 varoquau varoquau 1.3K Mar 18  2003 \u001b[00m51285\u001b[0m\r\n",
        "-rw-r--r-- 1 varoquau varoquau  601 Mar 18  2003 \u001b[00m51286\u001b[0m\r\n",
        "-rw-r--r-- 1 varoquau varoquau  751 Mar 18  2003 \u001b[00m51287\u001b[0m\r\n",
        "-rw-r--r-- 1 varoquau varoquau 1.3K Mar 18  2003 \u001b[00m51288\u001b[0m\r\n",
        "-rw-r--r-- 1 varoquau varoquau 8.1K Mar 18  2003 \u001b[00m51290\u001b[0m\r\n",
        "-rw-r--r-- 1 varoquau varoquau 1000 Mar 18  2003 \u001b[00m51291\u001b[0m\r\n",
        "-rw-r--r-- 1 varoquau varoquau 2.9K Mar 18  2003 \u001b[00m51292\u001b[0m\r\n",
        "-rw-r--r-- 1 varoquau varoquau 1.3K Mar 18  2003 \u001b[00m51293\u001b[0m\r\n",
        "-rw-r--r-- 1 varoquau varoquau 1.8K Mar 18  2003 \u001b[00m51294\u001b[0m\r\n",
        "-rw-r--r-- 1 varoquau varoquau 2.0K Mar 18  2003 \u001b[00m51295\u001b[0m\r\n",
        "-rw-r--r-- 1 varoquau varoquau 1.8K Mar 18  2003 \u001b[00m51296\u001b[0m\r\n",
        "-rw-r--r-- 1 varoquau varoquau 4.3K Mar 18  2003 \u001b[00m51297\u001b[0m\r\n",
        "-rw-r--r-- 1 varoquau varoquau 2.6K Mar 18  2003 \u001b[00m51298\u001b[0m\r\n",
        "-rw-r--r-- 1 varoquau varoquau 2.3K Mar 18  2003 \u001b[00m51299\u001b[0m\r\n",
        "-rw-r--r-- 1 varoquau varoquau 2.3K Mar 18  2003 \u001b[00m51300\u001b[0m\r\n",
        "-rw-r--r-- 1 varoquau varoquau 6.3K Mar 18  2003 \u001b[00m51301\u001b[0m\r\n",
        "-rw-r--r-- 1 varoquau varoquau 1.3K Mar 18  2003 \u001b[00m51302\u001b[0m\r\n",
        "-rw-r--r-- 1 varoquau varoquau 1.9K Mar 18  2003 \u001b[00m51303\u001b[0m\r\n",
        "-rw-r--r-- 1 varoquau varoquau  11K Mar 18  2003 \u001b[00m51304\u001b[0m\r\n",
        "-rw-r--r-- 1 varoquau varoquau 1.6K Mar 18  2003 \u001b[00m51305\u001b[0m\r\n",
        "-rw-r--r-- 1 varoquau varoquau 1.5K Mar 18  2003 \u001b[00m51306\u001b[0m\r\n",
        "-rw-r--r-- 1 varoquau varoquau 4.2K Mar 18  2003 \u001b[00m51307\u001b[0m\r\n",
        "-rw-r--r-- 1 varoquau varoquau 6.3K Mar 18  2003 \u001b[00m51308\u001b[0m\r\n",
        "-rw-r--r-- 1 varoquau varoquau 1.1K Mar 18  2003 \u001b[00m51309\u001b[0m\r\n",
        "-rw-r--r-- 1 varoquau varoquau  768 Mar 18  2003 \u001b[00m51310\u001b[0m\r\n",
        "-rw-r--r-- 1 varoquau varoquau 1.1K Mar 18  2003 \u001b[00m51311\u001b[0m\r\n",
        "-rw-r--r-- 1 varoquau varoquau  930 Mar 18  2003 \u001b[00m51312\u001b[0m\r\n",
        "-rw-r--r-- 1 varoquau varoquau  771 Mar 18  2003 \u001b[00m51313\u001b[0m\r\n",
        "-rw-r--r-- 1 varoquau varoquau  670 Mar 18  2003 \u001b[00m51314\u001b[0m\r\n",
        "-rw-r--r-- 1 varoquau varoquau 1.2K Mar 18  2003 \u001b[00m51315\u001b[0m\r\n",
        "-rw-r--r-- 1 varoquau varoquau 3.7K Mar 18  2003 \u001b[00m51316\u001b[0m\r\n",
        "-rw-r--r-- 1 varoquau varoquau  406 Mar 18  2003 \u001b[00m51317\u001b[0m\r\n",
        "-rw-r--r-- 1 varoquau varoquau 5.5K Mar 18  2003 \u001b[00m51318\u001b[0m\r\n",
        "-rw-r--r-- 1 varoquau varoquau 9.7K Mar 18  2003 \u001b[00m51319\u001b[0m\r\n",
        "-rw-r--r-- 1 varoquau varoquau 2.1K Mar 18  2003 \u001b[00m51320\u001b[0m\r\n",
        "-rw-r--r-- 1 varoquau varoquau  30K Mar 18  2003 \u001b[00m52499\u001b[0m\r\n",
        "-rw-r--r-- 1 varoquau varoquau  26K Mar 18  2003 \u001b[00m52909\u001b[0m\r\n",
        "-rw-r--r-- 1 varoquau varoquau 5.8K Mar 18  2003 \u001b[00m52910\u001b[0m\r\n",
        "-rw-r--r-- 1 varoquau varoquau  819 Mar 18  2003 \u001b[00m53055\u001b[0m\r\n",
        "-rw-r--r-- 1 varoquau varoquau  857 Mar 18  2003 \u001b[00m53056\u001b[0m\r\n",
        "-rw-r--r-- 1 varoquau varoquau  755 Mar 18  2003 \u001b[00m53057\u001b[0m\r\n",
        "-rw-r--r-- 1 varoquau varoquau 4.5K Mar 18  2003 \u001b[00m53058\u001b[0m\r\n",
        "-rw-r--r-- 1 varoquau varoquau 2.2K Mar 18  2003 \u001b[00m53059\u001b[0m\r\n",
        "-rw-r--r-- 1 varoquau varoquau 1.2K Mar 18  2003 \u001b[00m53062\u001b[0m\r\n",
        "-rw-r--r-- 1 varoquau varoquau 1.7K Mar 18  2003 \u001b[00m53064\u001b[0m\r\n",
        "-rw-r--r-- 1 varoquau varoquau  515 Mar 18  2003 \u001b[00m53065\u001b[0m\r\n",
        "-rw-r--r-- 1 varoquau varoquau 9.2K Mar 18  2003 \u001b[00m53066\u001b[0m\r\n",
        "-rw-r--r-- 1 varoquau varoquau 2.5K Mar 18  2003 \u001b[00m53067\u001b[0m\r\n",
        "-rw-r--r-- 1 varoquau varoquau  610 Mar 18  2003 \u001b[00m53069\u001b[0m\r\n",
        "-rw-r--r-- 1 varoquau varoquau  759 Mar 18  2003 \u001b[00m53070\u001b[0m\r\n",
        "-rw-r--r-- 1 varoquau varoquau 2.3K Mar 18  2003 \u001b[00m53071\u001b[0m\r\n",
        "-rw-r--r-- 1 varoquau varoquau 1.5K Mar 18  2003 \u001b[00m53072\u001b[0m\r\n",
        "-rw-r--r-- 1 varoquau varoquau 1.9K Mar 18  2003 \u001b[00m53073\u001b[0m\r\n",
        "-rw-r--r-- 1 varoquau varoquau 2.1K Mar 18  2003 \u001b[00m53075\u001b[0m\r\n",
        "-rw-r--r-- 1 varoquau varoquau  411 Mar 18  2003 \u001b[00m53078\u001b[0m\r\n",
        "-rw-r--r-- 1 varoquau varoquau 1.3K Mar 18  2003 \u001b[00m53081\u001b[0m\r\n",
        "-rw-r--r-- 1 varoquau varoquau  962 Mar 18  2003 \u001b[00m53082\u001b[0m\r\n",
        "-rw-r--r-- 1 varoquau varoquau 1.4K Mar 18  2003 \u001b[00m53083\u001b[0m\r\n",
        "-rw-r--r-- 1 varoquau varoquau 2.1K Mar 18  2003 \u001b[00m53085\u001b[0m\r\n",
        "-rw-r--r-- 1 varoquau varoquau 1.1K Mar 18  2003 \u001b[00m53086\u001b[0m\r\n",
        "-rw-r--r-- 1 varoquau varoquau  247 Mar 18  2003 \u001b[00m53087\u001b[0m\r\n",
        "-rw-r--r-- 1 varoquau varoquau 3.9K Mar 18  2003 \u001b[00m53090\u001b[0m\r\n",
        "-rw-r--r-- 1 varoquau varoquau 1.1K Mar 18  2003 \u001b[00m53093\u001b[0m\r\n",
        "-rw-r--r-- 1 varoquau varoquau 1.2K Mar 18  2003 \u001b[00m53094\u001b[0m\r\n",
        "-rw-r--r-- 1 varoquau varoquau 1.1K Mar 18  2003 \u001b[00m53095\u001b[0m\r\n",
        "-rw-r--r-- 1 varoquau varoquau  863 Mar 18  2003 \u001b[00m53096\u001b[0m\r\n",
        "-rw-r--r-- 1 varoquau varoquau 1.2K Mar 18  2003 \u001b[00m53097\u001b[0m\r\n",
        "-rw-r--r-- 1 varoquau varoquau 1.3K Mar 18  2003 \u001b[00m53098\u001b[0m\r\n",
        "-rw-r--r-- 1 varoquau varoquau 1.1K Mar 18  2003 \u001b[00m53099\u001b[0m\r\n",
        "-rw-r--r-- 1 varoquau varoquau 2.0K Mar 18  2003 \u001b[00m53106\u001b[0m\r\n",
        "-rw-r--r-- 1 varoquau varoquau  784 Mar 18  2003 \u001b[00m53108\u001b[0m\r\n",
        "-rw-r--r-- 1 varoquau varoquau 2.3K Mar 18  2003 \u001b[00m53110\u001b[0m\r\n",
        "-rw-r--r-- 1 varoquau varoquau  712 Mar 18  2003 \u001b[00m53111\u001b[0m\r\n",
        "-rw-r--r-- 1 varoquau varoquau 2.4K Mar 18  2003 \u001b[00m53112\u001b[0m\r\n",
        "-rw-r--r-- 1 varoquau varoquau 2.7K Mar 18  2003 \u001b[00m53113\u001b[0m\r\n",
        "-rw-r--r-- 1 varoquau varoquau 1.7K Mar 18  2003 \u001b[00m53114\u001b[0m\r\n",
        "-rw-r--r-- 1 varoquau varoquau 1.6K Mar 18  2003 \u001b[00m53117\u001b[0m\r\n",
        "-rw-r--r-- 1 varoquau varoquau 2.9K Mar 18  2003 \u001b[00m53118\u001b[0m\r\n",
        "-rw-r--r-- 1 varoquau varoquau 4.1K Mar 18  2003 \u001b[00m53120\u001b[0m\r\n",
        "-rw-r--r-- 1 varoquau varoquau 1.9K Mar 18  2003 \u001b[00m53121\u001b[0m\r\n",
        "-rw-r--r-- 1 varoquau varoquau 2.5K Mar 18  2003 \u001b[00m53122\u001b[0m\r\n",
        "-rw-r--r-- 1 varoquau varoquau 1.3K Mar 18  2003 \u001b[00m53123\u001b[0m\r\n",
        "-rw-r--r-- 1 varoquau varoquau 3.4K Mar 18  2003 \u001b[00m53124\u001b[0m\r\n",
        "-rw-r--r-- 1 varoquau varoquau 1.8K Mar 18  2003 \u001b[00m53125\u001b[0m\r\n",
        "-rw-r--r-- 1 varoquau varoquau 1.3K Mar 18  2003 \u001b[00m53126\u001b[0m\r\n",
        "-rw-r--r-- 1 varoquau varoquau  826 Mar 18  2003 \u001b[00m53127\u001b[0m\r\n",
        "-rw-r--r-- 1 varoquau varoquau  958 Mar 18  2003 \u001b[00m53130\u001b[0m\r\n",
        "-rw-r--r-- 1 varoquau varoquau 1.6K Mar 18  2003 \u001b[00m53131\u001b[0m\r\n",
        "-rw-r--r-- 1 varoquau varoquau 1012 Mar 18  2003 \u001b[00m53132\u001b[0m\r\n",
        "-rw-r--r-- 1 varoquau varoquau  640 Mar 18  2003 \u001b[00m53133\u001b[0m\r\n",
        "-rw-r--r-- 1 varoquau varoquau 1.3K Mar 18  2003 \u001b[00m53134\u001b[0m\r\n",
        "-rw-r--r-- 1 varoquau varoquau 2.1K Mar 18  2003 \u001b[00m53135\u001b[0m\r\n",
        "-rw-r--r-- 1 varoquau varoquau 4.2K Mar 18  2003 \u001b[00m53136\u001b[0m\r\n",
        "-rw-r--r-- 1 varoquau varoquau 4.9K Mar 18  2003 \u001b[00m53137\u001b[0m\r\n",
        "-rw-r--r-- 1 varoquau varoquau 1.4K Mar 18  2003 \u001b[00m53139\u001b[0m\r\n",
        "-rw-r--r-- 1 varoquau varoquau 3.0K Mar 18  2003 \u001b[00m53140\u001b[0m\r\n",
        "-rw-r--r-- 1 varoquau varoquau 2.1K Mar 18  2003 \u001b[00m53141\u001b[0m\r\n",
        "-rw-r--r-- 1 varoquau varoquau  456 Mar 18  2003 \u001b[00m53142\u001b[0m\r\n",
        "-rw-r--r-- 1 varoquau varoquau  760 Mar 18  2003 \u001b[00m53143\u001b[0m\r\n",
        "-rw-r--r-- 1 varoquau varoquau  768 Mar 18  2003 \u001b[00m53144\u001b[0m\r\n",
        "-rw-r--r-- 1 varoquau varoquau 1.1K Mar 18  2003 \u001b[00m53145\u001b[0m\r\n",
        "-rw-r--r-- 1 varoquau varoquau 1.3K Mar 18  2003 \u001b[00m53149\u001b[0m\r\n",
        "-rw-r--r-- 1 varoquau varoquau 2.1K Mar 18  2003 \u001b[00m53150\u001b[0m\r\n",
        "-rw-r--r-- 1 varoquau varoquau 1.4K Mar 18  2003 \u001b[00m53151\u001b[0m\r\n",
        "-rw-r--r-- 1 varoquau varoquau 2.0K Mar 18  2003 \u001b[00m53153\u001b[0m\r\n",
        "-rw-r--r-- 1 varoquau varoquau 1.2K Mar 18  2003 \u001b[00m53154\u001b[0m\r\n",
        "-rw-r--r-- 1 varoquau varoquau 1.3K Mar 18  2003 \u001b[00m53157\u001b[0m\r\n",
        "-rw-r--r-- 1 varoquau varoquau 2.0K Mar 18  2003 \u001b[00m53158\u001b[0m\r\n",
        "-rw-r--r-- 1 varoquau varoquau  819 Mar 18  2003 \u001b[00m53159\u001b[0m\r\n",
        "-rw-r--r-- 1 varoquau varoquau 2.0K Mar 18  2003 \u001b[00m53160\u001b[0m\r\n",
        "-rw-r--r-- 1 varoquau varoquau 3.5K Mar 18  2003 \u001b[00m53161\u001b[0m\r\n",
        "-rw-r--r-- 1 varoquau varoquau 1.6K Mar 18  2003 \u001b[00m53162\u001b[0m\r\n",
        "-rw-r--r-- 1 varoquau varoquau 1.9K Mar 18  2003 \u001b[00m53163\u001b[0m\r\n",
        "-rw-r--r-- 1 varoquau varoquau 2.2K Mar 18  2003 \u001b[00m53164\u001b[0m\r\n",
        "-rw-r--r-- 1 varoquau varoquau 1.2K Mar 18  2003 \u001b[00m53165\u001b[0m\r\n",
        "-rw-r--r-- 1 varoquau varoquau  684 Mar 18  2003 \u001b[00m53166\u001b[0m\r\n",
        "-rw-r--r-- 1 varoquau varoquau  443 Mar 18  2003 \u001b[00m53167\u001b[0m\r\n",
        "-rw-r--r-- 1 varoquau varoquau 1.3K Mar 18  2003 \u001b[00m53168\u001b[0m\r\n",
        "-rw-r--r-- 1 varoquau varoquau 1.4K Mar 18  2003 \u001b[00m53170\u001b[0m\r\n",
        "-rw-r--r-- 1 varoquau varoquau 2.6K Mar 18  2003 \u001b[00m53171\u001b[0m\r\n",
        "-rw-r--r-- 1 varoquau varoquau  785 Mar 18  2003 \u001b[00m53172\u001b[0m\r\n",
        "-rw-r--r-- 1 varoquau varoquau 1.2K Mar 18  2003 \u001b[00m53173\u001b[0m\r\n",
        "-rw-r--r-- 1 varoquau varoquau 1.3K Mar 18  2003 \u001b[00m53174\u001b[0m\r\n",
        "-rw-r--r-- 1 varoquau varoquau  737 Mar 18  2003 \u001b[00m53175\u001b[0m\r\n",
        "-rw-r--r-- 1 varoquau varoquau 1.3K Mar 18  2003 \u001b[00m53176\u001b[0m\r\n",
        "-rw-r--r-- 1 varoquau varoquau 1.9K Mar 18  2003 \u001b[00m53177\u001b[0m\r\n",
        "-rw-r--r-- 1 varoquau varoquau 2.2K Mar 18  2003 \u001b[00m53178\u001b[0m\r\n",
        "-rw-r--r-- 1 varoquau varoquau 1.6K Mar 18  2003 \u001b[00m53179\u001b[0m\r\n",
        "-rw-r--r-- 1 varoquau varoquau 2.1K Mar 18  2003 \u001b[00m53180\u001b[0m\r\n",
        "-rw-r--r-- 1 varoquau varoquau 3.3K Mar 18  2003 \u001b[00m53181\u001b[0m\r\n",
        "-rw-r--r-- 1 varoquau varoquau 1.2K Mar 18  2003 \u001b[00m53182\u001b[0m\r\n",
        "-rw-r--r-- 1 varoquau varoquau 1.4K Mar 18  2003 \u001b[00m53183\u001b[0m\r\n",
        "-rw-r--r-- 1 varoquau varoquau 1.8K Mar 18  2003 \u001b[00m53184\u001b[0m\r\n",
        "-rw-r--r-- 1 varoquau varoquau 2.6K Mar 18  2003 \u001b[00m53185\u001b[0m\r\n",
        "-rw-r--r-- 1 varoquau varoquau 3.1K Mar 18  2003 \u001b[00m53186\u001b[0m\r\n",
        "-rw-r--r-- 1 varoquau varoquau  665 Mar 18  2003 \u001b[00m53187\u001b[0m\r\n",
        "-rw-r--r-- 1 varoquau varoquau 2.0K Mar 18  2003 \u001b[00m53188\u001b[0m\r\n",
        "-rw-r--r-- 1 varoquau varoquau 1.4K Mar 18  2003 \u001b[00m53190\u001b[0m\r\n",
        "-rw-r--r-- 1 varoquau varoquau 1.9K Mar 18  2003 \u001b[00m53191\u001b[0m\r\n",
        "-rw-r--r-- 1 varoquau varoquau 1.9K Mar 18  2003 \u001b[00m53192\u001b[0m\r\n",
        "-rw-r--r-- 1 varoquau varoquau 1.4K Mar 18  2003 \u001b[00m53193\u001b[0m\r\n",
        "-rw-r--r-- 1 varoquau varoquau  792 Mar 18  2003 \u001b[00m53194\u001b[0m\r\n",
        "-rw-r--r-- 1 varoquau varoquau 2.1K Mar 18  2003 \u001b[00m53195\u001b[0m\r\n",
        "-rw-r--r-- 1 varoquau varoquau 1.7K Mar 18  2003 \u001b[00m53196\u001b[0m\r\n",
        "-rw-r--r-- 1 varoquau varoquau 2.6K Mar 18  2003 \u001b[00m53197\u001b[0m\r\n",
        "-rw-r--r-- 1 varoquau varoquau 1.1K Mar 18  2003 \u001b[00m53198\u001b[0m\r\n",
        "-rw-r--r-- 1 varoquau varoquau 1.5K Mar 18  2003 \u001b[00m53199\u001b[0m\r\n",
        "-rw-r--r-- 1 varoquau varoquau 1.4K Mar 18  2003 \u001b[00m53201\u001b[0m\r\n",
        "-rw-r--r-- 1 varoquau varoquau 1.4K Mar 18  2003 \u001b[00m53203\u001b[0m\r\n",
        "-rw-r--r-- 1 varoquau varoquau 3.7K Mar 18  2003 \u001b[00m53208\u001b[0m\r\n",
        "-rw-r--r-- 1 varoquau varoquau 1.2K Mar 18  2003 \u001b[00m53209\u001b[0m\r\n",
        "-rw-r--r-- 1 varoquau varoquau 1.6K Mar 18  2003 \u001b[00m53210\u001b[0m\r\n",
        "-rw-r--r-- 1 varoquau varoquau 2.8K Mar 18  2003 \u001b[00m53211\u001b[0m\r\n",
        "-rw-r--r-- 1 varoquau varoquau 1.5K Mar 18  2003 \u001b[00m53212\u001b[0m\r\n",
        "-rw-r--r-- 1 varoquau varoquau 2.3K Mar 18  2003 \u001b[00m53213\u001b[0m\r\n",
        "-rw-r--r-- 1 varoquau varoquau 2.0K Mar 18  2003 \u001b[00m53214\u001b[0m\r\n",
        "-rw-r--r-- 1 varoquau varoquau  919 Mar 18  2003 \u001b[00m53215\u001b[0m\r\n",
        "-rw-r--r-- 1 varoquau varoquau  868 Mar 18  2003 \u001b[00m53216\u001b[0m\r\n",
        "-rw-r--r-- 1 varoquau varoquau 2.3K Mar 18  2003 \u001b[00m53217\u001b[0m\r\n",
        "-rw-r--r-- 1 varoquau varoquau 1010 Mar 18  2003 \u001b[00m53218\u001b[0m\r\n",
        "-rw-r--r-- 1 varoquau varoquau 1.1K Mar 18  2003 \u001b[00m53219\u001b[0m\r\n",
        "-rw-r--r-- 1 varoquau varoquau  640 Mar 18  2003 \u001b[00m53220\u001b[0m\r\n",
        "-rw-r--r-- 1 varoquau varoquau 1.1K Mar 18  2003 \u001b[00m53221\u001b[0m\r\n",
        "-rw-r--r-- 1 varoquau varoquau 2.1K Mar 18  2003 \u001b[00m53222\u001b[0m\r\n",
        "-rw-r--r-- 1 varoquau varoquau 2.1K Mar 18  2003 \u001b[00m53223\u001b[0m\r\n",
        "-rw-r--r-- 1 varoquau varoquau 3.5K Mar 18  2003 \u001b[00m53224\u001b[0m\r\n",
        "-rw-r--r-- 1 varoquau varoquau  808 Mar 18  2003 \u001b[00m53225\u001b[0m\r\n",
        "-rw-r--r-- 1 varoquau varoquau 1.1K Mar 18  2003 \u001b[00m53226\u001b[0m\r\n",
        "-rw-r--r-- 1 varoquau varoquau  640 Mar 18  2003 \u001b[00m53228\u001b[0m\r\n",
        "-rw-r--r-- 1 varoquau varoquau  856 Mar 18  2003 \u001b[00m53229\u001b[0m\r\n",
        "-rw-r--r-- 1 varoquau varoquau  967 Mar 18  2003 \u001b[00m53230\u001b[0m\r\n",
        "-rw-r--r-- 1 varoquau varoquau  781 Mar 18  2003 \u001b[00m53231\u001b[0m\r\n",
        "-rw-r--r-- 1 varoquau varoquau 1.2K Mar 18  2003 \u001b[00m53232\u001b[0m\r\n",
        "-rw-r--r-- 1 varoquau varoquau 2.2K Mar 18  2003 \u001b[00m53235\u001b[0m\r\n",
        "-rw-r--r-- 1 varoquau varoquau 1.8K Mar 18  2003 \u001b[00m53237\u001b[0m\r\n",
        "-rw-r--r-- 1 varoquau varoquau 2.2K Mar 18  2003 \u001b[00m53238\u001b[0m\r\n",
        "-rw-r--r-- 1 varoquau varoquau 2.4K Mar 18  2003 \u001b[00m53239\u001b[0m\r\n",
        "-rw-r--r-- 1 varoquau varoquau 1.3K Mar 18  2003 \u001b[00m53240\u001b[0m\r\n",
        "-rw-r--r-- 1 varoquau varoquau 1.4K Mar 18  2003 \u001b[00m53243\u001b[0m\r\n",
        "-rw-r--r-- 1 varoquau varoquau 1.3K Mar 18  2003 \u001b[00m53248\u001b[0m\r\n",
        "-rw-r--r-- 1 varoquau varoquau 1.5K Mar 18  2003 \u001b[00m53249\u001b[0m\r\n",
        "-rw-r--r-- 1 varoquau varoquau 1.8K Mar 18  2003 \u001b[00m53250\u001b[0m\r\n",
        "-rw-r--r-- 1 varoquau varoquau 1.6K Mar 18  2003 \u001b[00m53251\u001b[0m\r\n",
        "-rw-r--r-- 1 varoquau varoquau 1.4K Mar 18  2003 \u001b[00m53252\u001b[0m\r\n",
        "-rw-r--r-- 1 varoquau varoquau 1.2K Mar 18  2003 \u001b[00m53256\u001b[0m\r\n",
        "-rw-r--r-- 1 varoquau varoquau  806 Mar 18  2003 \u001b[00m53258\u001b[0m\r\n",
        "-rw-r--r-- 1 varoquau varoquau 4.2K Mar 18  2003 \u001b[00m53266\u001b[0m\r\n",
        "-rw-r--r-- 1 varoquau varoquau 3.5K Mar 18  2003 \u001b[00m53267\u001b[0m\r\n",
        "-rw-r--r-- 1 varoquau varoquau 1.9K Mar 18  2003 \u001b[00m53269\u001b[0m\r\n",
        "-rw-r--r-- 1 varoquau varoquau 3.2K Mar 18  2003 \u001b[00m53271\u001b[0m\r\n",
        "-rw-r--r-- 1 varoquau varoquau 1.3K Mar 18  2003 \u001b[00m53274\u001b[0m\r\n",
        "-rw-r--r-- 1 varoquau varoquau 2.1K Mar 18  2003 \u001b[00m53275\u001b[0m\r\n",
        "-rw-r--r-- 1 varoquau varoquau 2.0K Mar 18  2003 \u001b[00m53281\u001b[0m\r\n",
        "-rw-r--r-- 1 varoquau varoquau  958 Mar 18  2003 \u001b[00m53282\u001b[0m\r\n",
        "-rw-r--r-- 1 varoquau varoquau 3.3K Mar 18  2003 \u001b[00m53283\u001b[0m\r\n",
        "-rw-r--r-- 1 varoquau varoquau  872 Mar 18  2003 \u001b[00m53284\u001b[0m\r\n",
        "-rw-r--r-- 1 varoquau varoquau  387 Mar 18  2003 \u001b[00m53285\u001b[0m\r\n",
        "-rw-r--r-- 1 varoquau varoquau 3.2K Mar 18  2003 \u001b[00m53286\u001b[0m\r\n",
        "-rw-r--r-- 1 varoquau varoquau 3.6K Mar 18  2003 \u001b[00m53287\u001b[0m\r\n",
        "-rw-r--r-- 1 varoquau varoquau 2.7K Mar 18  2003 \u001b[00m53288\u001b[0m\r\n",
        "-rw-r--r-- 1 varoquau varoquau  956 Mar 18  2003 \u001b[00m53289\u001b[0m\r\n",
        "-rw-r--r-- 1 varoquau varoquau 1.6K Mar 18  2003 \u001b[00m53290\u001b[0m\r\n",
        "-rw-r--r-- 1 varoquau varoquau  11K Mar 18  2003 \u001b[00m53292\u001b[0m\r\n",
        "-rw-r--r-- 1 varoquau varoquau 5.5K Mar 18  2003 \u001b[00m53298\u001b[0m\r\n",
        "-rw-r--r-- 1 varoquau varoquau  945 Mar 18  2003 \u001b[00m53303\u001b[0m\r\n",
        "-rw-r--r-- 1 varoquau varoquau 1.2K Mar 18  2003 \u001b[00m53304\u001b[0m\r\n",
        "-rw-r--r-- 1 varoquau varoquau 1.5K Mar 18  2003 \u001b[00m53305\u001b[0m\r\n",
        "-rw-r--r-- 1 varoquau varoquau 1.5K Mar 18  2003 \u001b[00m53306\u001b[0m\r\n",
        "-rw-r--r-- 1 varoquau varoquau  590 Mar 18  2003 \u001b[00m53307\u001b[0m\r\n",
        "-rw-r--r-- 1 varoquau varoquau  663 Mar 18  2003 \u001b[00m53308\u001b[0m\r\n",
        "-rw-r--r-- 1 varoquau varoquau  907 Mar 18  2003 \u001b[00m53309\u001b[0m\r\n",
        "-rw-r--r-- 1 varoquau varoquau 1.1K Mar 18  2003 \u001b[00m53311\u001b[0m\r\n",
        "-rw-r--r-- 1 varoquau varoquau 1.6K Mar 18  2003 \u001b[00m53312\u001b[0m\r\n",
        "-rw-r--r-- 1 varoquau varoquau  576 Mar 18  2003 \u001b[00m53314\u001b[0m\r\n",
        "-rw-r--r-- 1 varoquau varoquau  16K Mar 18  2003 \u001b[00m53323\u001b[0m\r\n",
        "-rw-r--r-- 1 varoquau varoquau 1.1K Mar 18  2003 \u001b[00m53334\u001b[0m\r\n",
        "-rw-r--r-- 1 varoquau varoquau  783 Mar 18  2003 \u001b[00m53347\u001b[0m\r\n",
        "-rw-r--r-- 1 varoquau varoquau 5.8K Mar 18  2003 \u001b[00m53351\u001b[0m\r\n",
        "-rw-r--r-- 1 varoquau varoquau 1.7K Mar 18  2003 \u001b[00m53366\u001b[0m\r\n",
        "-rw-r--r-- 1 varoquau varoquau  698 Mar 18  2003 \u001b[00m53370\u001b[0m\r\n",
        "-rw-r--r-- 1 varoquau varoquau  600 Mar 18  2003 \u001b[00m53371\u001b[0m\r\n",
        "-rw-r--r-- 1 varoquau varoquau 5.6K Mar 18  2003 \u001b[00m53373\u001b[0m\r\n",
        "-rw-r--r-- 1 varoquau varoquau 1.8K Mar 18  2003 \u001b[00m53374\u001b[0m\r\n",
        "-rw-r--r-- 1 varoquau varoquau 1.2K Mar 18  2003 \u001b[00m53375\u001b[0m\r\n",
        "-rw-r--r-- 1 varoquau varoquau  849 Mar 18  2003 \u001b[00m53376\u001b[0m\r\n",
        "-rw-r--r-- 1 varoquau varoquau  621 Mar 18  2003 \u001b[00m53377\u001b[0m\r\n",
        "-rw-r--r-- 1 varoquau varoquau  270 Mar 18  2003 \u001b[00m53380\u001b[0m\r\n",
        "-rw-r--r-- 1 varoquau varoquau 1.1K Mar 18  2003 \u001b[00m53381\u001b[0m\r\n",
        "-rw-r--r-- 1 varoquau varoquau 2.3K Mar 18  2003 \u001b[00m53382\u001b[0m\r\n",
        "-rw-r--r-- 1 varoquau varoquau 1.6K Mar 18  2003 \u001b[00m53383\u001b[0m\r\n",
        "-rw-r--r-- 1 varoquau varoquau 1.7K Mar 18  2003 \u001b[00m53387\u001b[0m\r\n",
        "-rw-r--r-- 1 varoquau varoquau  759 Mar 18  2003 \u001b[00m53389\u001b[0m\r\n",
        "-rw-r--r-- 1 varoquau varoquau  396 Mar 18  2003 \u001b[00m53390\u001b[0m\r\n",
        "-rw-r--r-- 1 varoquau varoquau  669 Mar 18  2003 \u001b[00m53391\u001b[0m\r\n",
        "-rw-r--r-- 1 varoquau varoquau 1.8K Mar 18  2003 \u001b[00m53434\u001b[0m\r\n",
        "-rw-r--r-- 1 varoquau varoquau 1.6K Mar 18  2003 \u001b[00m53435\u001b[0m\r\n",
        "-rw-r--r-- 1 varoquau varoquau  708 Mar 18  2003 \u001b[00m53436\u001b[0m\r\n",
        "-rw-r--r-- 1 varoquau varoquau  887 Mar 18  2003 \u001b[00m53437\u001b[0m\r\n",
        "-rw-r--r-- 1 varoquau varoquau  838 Mar 18  2003 \u001b[00m53438\u001b[0m\r\n",
        "-rw-r--r-- 1 varoquau varoquau 1.5K Mar 18  2003 \u001b[00m53439\u001b[0m\r\n",
        "-rw-r--r-- 1 varoquau varoquau 1.4K Mar 18  2003 \u001b[00m53440\u001b[0m\r\n",
        "-rw-r--r-- 1 varoquau varoquau  384 Mar 18  2003 \u001b[00m53441\u001b[0m\r\n",
        "-rw-r--r-- 1 varoquau varoquau  857 Mar 18  2003 \u001b[00m53442\u001b[0m\r\n",
        "-rw-r--r-- 1 varoquau varoquau 1.7K Mar 18  2003 \u001b[00m53443\u001b[0m\r\n",
        "-rw-r--r-- 1 varoquau varoquau 1.5K Mar 18  2003 \u001b[00m53445\u001b[0m\r\n",
        "-rw-r--r-- 1 varoquau varoquau 1.3K Mar 18  2003 \u001b[00m53449\u001b[0m\r\n",
        "-rw-r--r-- 1 varoquau varoquau 2.5K Mar 18  2003 \u001b[00m53459\u001b[0m\r\n",
        "-rw-r--r-- 1 varoquau varoquau 1.4K Mar 18  2003 \u001b[00m53460\u001b[0m\r\n",
        "-rw-r--r-- 1 varoquau varoquau 1010 Mar 18  2003 \u001b[00m53465\u001b[0m\r\n",
        "-rw-r--r-- 1 varoquau varoquau 1.4K Mar 18  2003 \u001b[00m53466\u001b[0m\r\n",
        "-rw-r--r-- 1 varoquau varoquau 1.1K Mar 18  2003 \u001b[00m53467\u001b[0m\r\n",
        "-rw-r--r-- 1 varoquau varoquau 1.5K Mar 18  2003 \u001b[00m53468\u001b[0m\r\n",
        "-rw-r--r-- 1 varoquau varoquau 1.1K Mar 18  2003 \u001b[00m53471\u001b[0m\r\n",
        "-rw-r--r-- 1 varoquau varoquau 2.0K Mar 18  2003 \u001b[00m53477\u001b[0m\r\n",
        "-rw-r--r-- 1 varoquau varoquau  718 Mar 18  2003 \u001b[00m53478\u001b[0m\r\n",
        "-rw-r--r-- 1 varoquau varoquau  781 Mar 18  2003 \u001b[00m53483\u001b[0m\r\n",
        "-rw-r--r-- 1 varoquau varoquau 1.7K Mar 18  2003 \u001b[00m53509\u001b[0m\r\n",
        "-rw-r--r-- 1 varoquau varoquau  910 Mar 18  2003 \u001b[00m53510\u001b[0m\r\n",
        "-rw-r--r-- 1 varoquau varoquau  781 Mar 18  2003 \u001b[00m53512\u001b[0m\r\n",
        "-rw-r--r-- 1 varoquau varoquau 1.9K Mar 18  2003 \u001b[00m53515\u001b[0m\r\n",
        "-rw-r--r-- 1 varoquau varoquau 2.2K Mar 18  2003 \u001b[00m53518\u001b[0m\r\n",
        "-rw-r--r-- 1 varoquau varoquau  51K Mar 18  2003 \u001b[00m53519\u001b[0m\r\n",
        "-rw-r--r-- 1 varoquau varoquau 6.0K Mar 18  2003 \u001b[00m53521\u001b[0m\r\n",
        "-rw-r--r-- 1 varoquau varoquau 1.1K Mar 18  2003 \u001b[00m53522\u001b[0m\r\n",
        "-rw-r--r-- 1 varoquau varoquau 2.8K Mar 18  2003 \u001b[00m53523\u001b[0m\r\n",
        "-rw-r--r-- 1 varoquau varoquau  338 Mar 18  2003 \u001b[00m53524\u001b[0m\r\n",
        "-rw-r--r-- 1 varoquau varoquau 1.4K Mar 18  2003 \u001b[00m53525\u001b[0m\r\n",
        "-rw-r--r-- 1 varoquau varoquau  489 Mar 18  2003 \u001b[00m53526\u001b[0m\r\n",
        "-rw-r--r-- 1 varoquau varoquau 2.7K Mar 18  2003 \u001b[00m53527\u001b[0m\r\n",
        "-rw-r--r-- 1 varoquau varoquau 2.5K Mar 18  2003 \u001b[00m53528\u001b[0m\r\n",
        "-rw-r--r-- 1 varoquau varoquau  228 Mar 18  2003 \u001b[00m53529\u001b[0m\r\n",
        "-rw-r--r-- 1 varoquau varoquau 1.2K Mar 18  2003 \u001b[00m53531\u001b[0m\r\n",
        "-rw-r--r-- 1 varoquau varoquau 1.4K Mar 18  2003 \u001b[00m53532\u001b[0m\r\n",
        "-rw-r--r-- 1 varoquau varoquau 1.2K Mar 18  2003 \u001b[00m53533\u001b[0m\r\n",
        "-rw-r--r-- 1 varoquau varoquau  356 Mar 18  2003 \u001b[00m53534\u001b[0m\r\n",
        "-rw-r--r-- 1 varoquau varoquau  614 Mar 18  2003 \u001b[00m53535\u001b[0m\r\n",
        "-rw-r--r-- 1 varoquau varoquau  895 Mar 18  2003 \u001b[00m53571\u001b[0m\r\n",
        "-rw-r--r-- 1 varoquau varoquau 1.1K Mar 18  2003 \u001b[00m53572\u001b[0m\r\n",
        "-rw-r--r-- 1 varoquau varoquau  697 Mar 18  2003 \u001b[00m53573\u001b[0m\r\n",
        "-rw-r--r-- 1 varoquau varoquau 1.1K Mar 18  2003 \u001b[00m53574\u001b[0m\r\n",
        "-rw-r--r-- 1 varoquau varoquau 1.8K Mar 18  2003 \u001b[00m53654\u001b[0m\r\n",
        "-rw-r--r-- 1 varoquau varoquau 2.3K Mar 18  2003 \u001b[00m53655\u001b[0m\r\n",
        "-rw-r--r-- 1 varoquau varoquau 2.5K Mar 18  2003 \u001b[00m53656\u001b[0m\r\n",
        "-rw-r--r-- 1 varoquau varoquau 2.1K Mar 18  2003 \u001b[00m53660\u001b[0m\r\n",
        "-rw-r--r-- 1 varoquau varoquau 6.9K Mar 18  2003 \u001b[00m53661\u001b[0m\r\n",
        "-rw-r--r-- 1 varoquau varoquau 1.8K Mar 18  2003 \u001b[00m53753\u001b[0m\r\n",
        "-rw-r--r-- 1 varoquau varoquau  698 Mar 18  2003 \u001b[00m53754\u001b[0m\r\n",
        "-rw-r--r-- 1 varoquau varoquau  779 Mar 18  2003 \u001b[00m53755\u001b[0m\r\n",
        "-rw-r--r-- 1 varoquau varoquau 3.9K Mar 18  2003 \u001b[00m53756\u001b[0m\r\n",
        "-rw-r--r-- 1 varoquau varoquau 1.3K Mar 18  2003 \u001b[00m53757\u001b[0m\r\n",
        "-rw-r--r-- 1 varoquau varoquau 2.3K Mar 18  2003 \u001b[00m53758\u001b[0m\r\n",
        "-rw-r--r-- 1 varoquau varoquau  745 Mar 18  2003 \u001b[00m53759\u001b[0m\r\n",
        "-rw-r--r-- 1 varoquau varoquau 2.0K Mar 18  2003 \u001b[00m53760\u001b[0m\r\n",
        "-rw-r--r-- 1 varoquau varoquau  592 Mar 18  2003 \u001b[00m53761\u001b[0m\r\n",
        "-rw-r--r-- 1 varoquau varoquau  658 Mar 18  2003 \u001b[00m53762\u001b[0m\r\n",
        "-rw-r--r-- 1 varoquau varoquau  756 Mar 18  2003 \u001b[00m53763\u001b[0m\r\n",
        "-rw-r--r-- 1 varoquau varoquau 2.7K Mar 18  2003 \u001b[00m53764\u001b[0m\r\n",
        "-rw-r--r-- 1 varoquau varoquau 1.2K Mar 18  2003 \u001b[00m53765\u001b[0m\r\n",
        "-rw-r--r-- 1 varoquau varoquau  906 Mar 18  2003 \u001b[00m53766\u001b[0m\r\n",
        "-rw-r--r-- 1 varoquau varoquau  535 Mar 18  2003 \u001b[00m53780\u001b[0m\r\n",
        "-rw-r--r-- 1 varoquau varoquau 1.3K Mar 18  2003 \u001b[00m53785\u001b[0m\r\n",
        "-rw-r--r-- 1 varoquau varoquau 2.3K Mar 18  2003 \u001b[00m54165\u001b[0m\r\n",
        "-rw-r--r-- 1 varoquau varoquau 2.8K Mar 18  2003 \u001b[00m54166\u001b[0m\r\n",
        "-rw-r--r-- 1 varoquau varoquau  547 Mar 18  2003 \u001b[00m54167\u001b[0m\r\n",
        "-rw-r--r-- 1 varoquau varoquau 2.5K Mar 18  2003 \u001b[00m54168\u001b[0m\r\n",
        "-rw-r--r-- 1 varoquau varoquau 4.7K Mar 18  2003 \u001b[00m54178\u001b[0m\r\n",
        "-rw-r--r-- 1 varoquau varoquau 1.8K Mar 18  2003 \u001b[00m54179\u001b[0m\r\n",
        "-rw-r--r-- 1 varoquau varoquau 4.5K Mar 18  2003 \u001b[00m54180\u001b[0m\r\n",
        "-rw-r--r-- 1 varoquau varoquau 1.3K Mar 18  2003 \u001b[00m54181\u001b[0m\r\n",
        "-rw-r--r-- 1 varoquau varoquau 3.0K Mar 18  2003 \u001b[00m54182\u001b[0m\r\n",
        "-rw-r--r-- 1 varoquau varoquau 1.4K Mar 18  2003 \u001b[00m54198\u001b[0m\r\n",
        "-rw-r--r-- 1 varoquau varoquau 1.9K Mar 18  2003 \u001b[00m54199\u001b[0m\r\n",
        "-rw-r--r-- 1 varoquau varoquau 2.5K Mar 18  2003 \u001b[00m54200\u001b[0m\r\n",
        "-rw-r--r-- 1 varoquau varoquau 1.8K Mar 18  2003 \u001b[00m54201\u001b[0m\r\n",
        "-rw-r--r-- 1 varoquau varoquau 1.1K Mar 18  2003 \u001b[00m54202\u001b[0m\r\n",
        "-rw-r--r-- 1 varoquau varoquau 1.3K Mar 18  2003 \u001b[00m54203\u001b[0m\r\n",
        "-rw-r--r-- 1 varoquau varoquau  565 Mar 18  2003 \u001b[00m54204\u001b[0m\r\n",
        "-rw-r--r-- 1 varoquau varoquau  641 Mar 18  2003 \u001b[00m54227\u001b[0m\r\n",
        "-rw-r--r-- 1 varoquau varoquau 1013 Mar 18  2003 \u001b[00m54228\u001b[0m\r\n",
        "-rw-r--r-- 1 varoquau varoquau  877 Mar 18  2003 \u001b[00m54470\u001b[0m\r\n",
        "-rw-r--r-- 1 varoquau varoquau 1014 Mar 18  2003 \u001b[00m54471\u001b[0m\r\n",
        "-rw-r--r-- 1 varoquau varoquau  993 Mar 18  2003 \u001b[00m54472\u001b[0m\r\n",
        "-rw-r--r-- 1 varoquau varoquau  434 Mar 18  2003 \u001b[00m54473\u001b[0m\r\n"
       ]
      }
     ],
     "prompt_number": 5
    },
    {
     "cell_type": "markdown",
     "metadata": {},
     "source": [
      "The `load_files` function can load text files from a 2 levels folder structure assuming folder names represent categories:"
     ]
    },
    {
     "cell_type": "code",
     "collapsed": false,
     "input": [
      "#print(load_files.__doc__)"
     ],
     "language": "python",
     "metadata": {},
     "outputs": [],
     "prompt_number": 6
    },
    {
     "cell_type": "code",
     "collapsed": false,
     "input": [
      "all_twenty_train = load_files('datasets/20news-bydate-train/',\n",
      "  charset='latin-1', random_state=42)\n",
      "all_twenty_test = load_files('datasets/20news-bydate-test/',\n",
      "    charset='latin-1', random_state=42)"
     ],
     "language": "python",
     "metadata": {},
     "outputs": [],
     "prompt_number": 7
    },
    {
     "cell_type": "code",
     "collapsed": false,
     "input": [
      "all_target_names = all_twenty_train.target_names\n",
      "all_target_names"
     ],
     "language": "python",
     "metadata": {},
     "outputs": [
      {
       "output_type": "pyout",
       "prompt_number": 10,
       "text": [
        "['alt.atheism',\n",
        " 'comp.graphics',\n",
        " 'comp.os.ms-windows.misc',\n",
        " 'comp.sys.ibm.pc.hardware',\n",
        " 'comp.sys.mac.hardware',\n",
        " 'comp.windows.x',\n",
        " 'misc.forsale',\n",
        " 'rec.autos',\n",
        " 'rec.motorcycles',\n",
        " 'rec.sport.baseball',\n",
        " 'rec.sport.hockey',\n",
        " 'sci.crypt',\n",
        " 'sci.electronics',\n",
        " 'sci.med',\n",
        " 'sci.space',\n",
        " 'soc.religion.christian',\n",
        " 'talk.politics.guns',\n",
        " 'talk.politics.mideast',\n",
        " 'talk.politics.misc',\n",
        " 'talk.religion.misc']"
       ]
      }
     ],
     "prompt_number": 8
    },
    {
     "cell_type": "code",
     "collapsed": false,
     "input": [
      "all_twenty_train.target"
     ],
     "language": "python",
     "metadata": {},
     "outputs": [
      {
       "output_type": "pyout",
       "prompt_number": 11,
       "text": [
        "array([12,  6,  9, ...,  9,  1, 12])"
       ]
      }
     ],
     "prompt_number": 9
    },
    {
     "cell_type": "code",
     "collapsed": false,
     "input": [
      "all_twenty_train.target.shape"
     ],
     "language": "python",
     "metadata": {},
     "outputs": [
      {
       "output_type": "pyout",
       "prompt_number": 12,
       "text": [
        "(11314,)"
       ]
      }
     ],
     "prompt_number": 10
    },
    {
     "cell_type": "code",
     "collapsed": false,
     "input": [
      "all_twenty_test.target.shape"
     ],
     "language": "python",
     "metadata": {},
     "outputs": [
      {
       "output_type": "pyout",
       "prompt_number": 13,
       "text": [
        "(7532,)"
       ]
      }
     ],
     "prompt_number": 11
    },
    {
     "cell_type": "code",
     "collapsed": false,
     "input": [
      "len(all_twenty_train.data)"
     ],
     "language": "python",
     "metadata": {},
     "outputs": [
      {
       "output_type": "pyout",
       "prompt_number": 14,
       "text": [
        "11314"
       ]
      }
     ],
     "prompt_number": 12
    },
    {
     "cell_type": "code",
     "collapsed": false,
     "input": [
      "type(all_twenty_train.data[0])"
     ],
     "language": "python",
     "metadata": {},
     "outputs": [
      {
       "output_type": "pyout",
       "prompt_number": 15,
       "text": [
        "unicode"
       ]
      }
     ],
     "prompt_number": 13
    },
    {
     "cell_type": "code",
     "collapsed": false,
     "input": [
      "def display_sample(i, dataset):\n",
      "    print(\"Class name: \" + dataset.target_names[dataset.target[i]])\n",
      "    print(\"Text content:\\n\")\n",
      "    print(dataset.data[i])"
     ],
     "language": "python",
     "metadata": {},
     "outputs": [],
     "prompt_number": 14
    },
    {
     "cell_type": "code",
     "collapsed": false,
     "input": [
      "display_sample(0, all_twenty_train)"
     ],
     "language": "python",
     "metadata": {},
     "outputs": [
      {
       "output_type": "stream",
       "stream": "stdout",
       "text": [
        "Class name: sci.electronics\n",
        "Text content:\n",
        "\n",
        "From: wtm@uhura.neoucom.edu (Bill Mayhew)\n",
        "Subject: Re: How to the disks copy protected.\n",
        "Organization: Northeastern Ohio Universities College of Medicine\n",
        "Lines: 23\n",
        "\n",
        "Write a good manual to go with the software.  The hassle of\n",
        "photocopying the manual is offset by simplicity of purchasing\n",
        "the package for only $15.  Also, consider offering an inexpensive\n",
        "but attractive perc for registered users.  For instance, a coffee\n",
        "mug.  You could produce and mail the incentive for a couple of\n",
        "dollars, so consider pricing the product at $17.95.\n",
        "\n",
        "You're lucky if only 20% of the instances of your program in use\n",
        "are non-licensed users.\n",
        "\n",
        "The best approach is to estimate your loss and accomodate that into\n",
        "your price structure.  Sure it hurts legitimate users, but too bad.\n",
        "Retailers have to charge off loss to shoplifters onto paying\n",
        "customers; the software industry is the same.\n",
        "\n",
        "Unless your product is exceptionally unique, using an ostensibly\n",
        "copy-proof disk will just send your customers to the competetion.\n",
        "\n",
        "\n",
        "-- \n",
        "Bill Mayhew      NEOUCOM Computer Services Department\n",
        "Rootstown, OH  44272-9995  USA    phone: 216-325-2511\n",
        "wtm@uhura.neoucom.edu (140.220.1.1)    146.580: N8WED\n",
        "\n"
       ]
      }
     ],
     "prompt_number": 15
    },
    {
     "cell_type": "code",
     "collapsed": false,
     "input": [
      "display_sample(1, all_twenty_train)"
     ],
     "language": "python",
     "metadata": {},
     "outputs": [
      {
       "output_type": "stream",
       "stream": "stdout",
       "text": [
        "Class name: misc.forsale\n",
        "Text content:\n",
        "\n",
        "From: andy@SAIL.Stanford.EDU (Andy Freeman)\n",
        "Subject: Re: Catalog of Hard-to-Find PC Enhancements (Repost)\n",
        "Organization: Computer Science Department,  Stanford University.\n",
        "Lines: 33\n",
        "\n",
        ">andy@SAIL.Stanford.EDU (Andy Freeman) writes:\n",
        ">> >In article <C5ELME.4z4@unix.portal.com> jdoll@shell.portal.com (Joe Doll) wr\n",
        ">> >>   \"The Catalog of Personal Computing Tools for Engineers and Scien-\n",
        ">> >>   tists\" lists hardware cards and application software packages for \n",
        ">> >>   PC/XT/AT/PS/2 class machines.  Focus is on engineering and scien-\n",
        ">> >>   tific applications of PCs, such as data acquisition/control, \n",
        ">> >>   design automation, and data analysis and presentation.  \n",
        ">> >\n",
        ">> >>   If you would like a free copy, reply with your (U. S. Postal) \n",
        ">> >>   mailing address.\n",
        ">> \n",
        ">> Don't bother - it never comes.  It's a cheap trick for building a\n",
        ">> mailing list to sell if my junk mail flow is any indication.\n",
        ">> \n",
        ">> -andy sent his address months ago\n",
        ">\n",
        ">Perhaps we can get Portal to nuke this weasal.  I never received a \n",
        ">catalog either.  If that person doesn't respond to a growing flame, then \n",
        ">we can assume that we'yall look forward to lotsa junk mail.\n",
        "\n",
        "I don't want him nuked, I want him to be honest.  The junk mail has\n",
        "been much more interesting than the promised catalog.  If I'd known\n",
        "what I was going to get, I wouldn't have hesitated.  I wouldn't be\n",
        "surprised if there were other folks who looked at the ad and said\n",
        "\"nope\" but who would be very interested in the junk mail that results.\n",
        "Similarly, there are people who wanted the advertised catalog who\n",
        "aren't happy with the junk they got instead.\n",
        "\n",
        "The folks buying the mailing lists would prefer an honest ad, and\n",
        "so would the people reading it.\n",
        "\n",
        "-andy\n",
        "--\n",
        "\n"
       ]
      }
     ],
     "prompt_number": 16
    },
    {
     "cell_type": "markdown",
     "metadata": {},
     "source": [
      "Let's compute the (uncompressed, in-memory) size of the training and test sets in MB assuming an 8 bit encoding (in this case, all chars can be encoded using the latin-1 charset)."
     ]
    },
    {
     "cell_type": "code",
     "collapsed": false,
     "input": [
      "def text_size(text, charset='iso-8859-1'):\n",
      "    return len(text.encode(charset)) * 8 * 1e-6\n",
      "\n",
      "train_size_mb = sum(text_size(text) for text in all_twenty_train.data) \n",
      "test_size_mb = sum(text_size(text) for text in all_twenty_test.data)\n",
      "\n",
      "print(\"Training set size: {0} MB\".format(int(train_size_mb)))\n",
      "print(\"Testing set size: {0} MB\".format(int(test_size_mb)))"
     ],
     "language": "python",
     "metadata": {},
     "outputs": [
      {
       "output_type": "stream",
       "stream": "stdout",
       "text": [
        "Training set size: 176 MB\n",
        "Testing set size: 110 MB\n"
       ]
      }
     ],
     "prompt_number": 17
    },
    {
     "cell_type": "markdown",
     "metadata": {},
     "source": [
      "If we only consider a small subset of the 4 categories selected from the initial example:"
     ]
    },
    {
     "cell_type": "code",
     "collapsed": false,
     "input": [
      "train_subset_size_mb = sum(text_size(text) for text in twenty_train_subset.data) \n",
      "test_subset_size_mb = sum(text_size(text) for text in twenty_test_subset.data)\n",
      "\n",
      "print(\"Training set size: {0} MB\".format(int(train_subset_size_mb)))\n",
      "print(\"Testing set size: {0} MB\".format(int(test_subset_size_mb)))"
     ],
     "language": "python",
     "metadata": {},
     "outputs": [
      {
       "output_type": "stream",
       "stream": "stdout",
       "text": [
        "Training set size: 31 MB\n",
        "Testing set size: 22 MB\n"
       ]
      }
     ],
     "prompt_number": 18
    },
    {
     "cell_type": "heading",
     "level": 3,
     "metadata": {},
     "source": [
      "Extracting Text Features"
     ]
    },
    {
     "cell_type": "code",
     "collapsed": false,
     "input": [
      "from sklearn.feature_extraction.text import TfidfVectorizer\n",
      "\n",
      "TfidfVectorizer()"
     ],
     "language": "python",
     "metadata": {},
     "outputs": [
      {
       "output_type": "pyout",
       "prompt_number": 21,
       "text": [
        "TfidfVectorizer(analyzer=u'word', binary=False, charset=None,\n",
        "        charset_error=None, decode_error=u'strict',\n",
        "        dtype=<type 'numpy.int64'>, encoding=u'utf-8', input=u'content',\n",
        "        lowercase=True, max_df=1.0, max_features=None, min_df=1,\n",
        "        ngram_range=(1, 1), norm=u'l2', preprocessor=None, smooth_idf=True,\n",
        "        stop_words=None, strip_accents=None, sublinear_tf=False,\n",
        "        token_pattern=u'(?u)\\\\b\\\\w\\\\w+\\\\b', tokenizer=None, use_idf=True,\n",
        "        vocabulary=None)"
       ]
      }
     ],
     "prompt_number": 19
    },
    {
     "cell_type": "code",
     "collapsed": false,
     "input": [
      "vectorizer = TfidfVectorizer(min_df=1)\n",
      "\n",
      "%time X_train = vectorizer.fit_transform(twenty_train_subset.data)"
     ],
     "language": "python",
     "metadata": {},
     "outputs": [
      {
       "output_type": "stream",
       "stream": "stdout",
       "text": [
        "CPU times: user 587 ms, sys: 30.7 ms, total: 618 ms\n",
        "Wall time: 589 ms\n"
       ]
      }
     ],
     "prompt_number": 20
    },
    {
     "cell_type": "markdown",
     "metadata": {},
     "source": [
      "The results is not a `numpy.array` but instead a `scipy.sparse` matrix. This datastructure is quite similar to a 2D numpy array but it does not store the zeros."
     ]
    },
    {
     "cell_type": "code",
     "collapsed": false,
     "input": [
      "X_train"
     ],
     "language": "python",
     "metadata": {},
     "outputs": [
      {
       "output_type": "pyout",
       "prompt_number": 23,
       "text": [
        "<2034x34118 sparse matrix of type '<type 'numpy.float64'>'\n",
        "\twith 323433 stored elements in Compressed Sparse Row format>"
       ]
      }
     ],
     "prompt_number": 21
    },
    {
     "cell_type": "markdown",
     "metadata": {},
     "source": [
      "scipy.sparse matrices also have a shape attribute to access the dimensions:"
     ]
    },
    {
     "cell_type": "code",
     "collapsed": false,
     "input": [
      "n_samples, n_features = X_train.shape"
     ],
     "language": "python",
     "metadata": {},
     "outputs": [],
     "prompt_number": 22
    },
    {
     "cell_type": "markdown",
     "metadata": {},
     "source": [
      "This dataset has around 2000 samples (the rows of the data matrix):"
     ]
    },
    {
     "cell_type": "code",
     "collapsed": false,
     "input": [
      "n_samples"
     ],
     "language": "python",
     "metadata": {},
     "outputs": [
      {
       "output_type": "pyout",
       "prompt_number": 25,
       "text": [
        "2034"
       ]
      }
     ],
     "prompt_number": 23
    },
    {
     "cell_type": "markdown",
     "metadata": {},
     "source": [
      "This is the same value as the number of strings in the original list of text documents:"
     ]
    },
    {
     "cell_type": "code",
     "collapsed": false,
     "input": [
      "len(twenty_train_subset.data)"
     ],
     "language": "python",
     "metadata": {},
     "outputs": [
      {
       "output_type": "pyout",
       "prompt_number": 26,
       "text": [
        "2034"
       ]
      }
     ],
     "prompt_number": 24
    },
    {
     "cell_type": "markdown",
     "metadata": {},
     "source": [
      "The columns represent the individual token occurrences:"
     ]
    },
    {
     "cell_type": "code",
     "collapsed": false,
     "input": [
      "n_features"
     ],
     "language": "python",
     "metadata": {},
     "outputs": [
      {
       "output_type": "pyout",
       "prompt_number": 27,
       "text": [
        "34118"
       ]
      }
     ],
     "prompt_number": 25
    },
    {
     "cell_type": "markdown",
     "metadata": {},
     "source": [
      "This number is the size of the vocabulary of the model extracted during fit in a Python dictionary:"
     ]
    },
    {
     "cell_type": "code",
     "collapsed": false,
     "input": [
      "type(vectorizer.vocabulary_)"
     ],
     "language": "python",
     "metadata": {},
     "outputs": [
      {
       "output_type": "pyout",
       "prompt_number": 28,
       "text": [
        "dict"
       ]
      }
     ],
     "prompt_number": 26
    },
    {
     "cell_type": "code",
     "collapsed": false,
     "input": [
      "len(vectorizer.vocabulary_)"
     ],
     "language": "python",
     "metadata": {},
     "outputs": [
      {
       "output_type": "pyout",
       "prompt_number": 29,
       "text": [
        "34118"
       ]
      }
     ],
     "prompt_number": 27
    },
    {
     "cell_type": "markdown",
     "metadata": {},
     "source": [
      "The keys of the `vocabulary_` attribute are also called feature names and can be accessed as a list of strings."
     ]
    },
    {
     "cell_type": "code",
     "collapsed": false,
     "input": [
      "len(vectorizer.get_feature_names())"
     ],
     "language": "python",
     "metadata": {},
     "outputs": [
      {
       "output_type": "pyout",
       "prompt_number": 30,
       "text": [
        "34118"
       ]
      }
     ],
     "prompt_number": 28
    },
    {
     "cell_type": "markdown",
     "metadata": {},
     "source": [
      "Here are the first 10 elements (sorted in lexicographical order):"
     ]
    },
    {
     "cell_type": "code",
     "collapsed": false,
     "input": [
      "vectorizer.get_feature_names()[:10]"
     ],
     "language": "python",
     "metadata": {},
     "outputs": [
      {
       "output_type": "pyout",
       "prompt_number": 31,
       "text": [
        "[u'00',\n",
        " u'000',\n",
        " u'0000',\n",
        " u'00000',\n",
        " u'000000',\n",
        " u'000005102000',\n",
        " u'000021',\n",
        " u'000062david42',\n",
        " u'0000vec',\n",
        " u'0001']"
       ]
      }
     ],
     "prompt_number": 29
    },
    {
     "cell_type": "markdown",
     "metadata": {},
     "source": [
      "Let's have a look at the features from the middle:"
     ]
    },
    {
     "cell_type": "code",
     "collapsed": false,
     "input": [
      "vectorizer.get_feature_names()[n_features / 2:n_features / 2 + 10]"
     ],
     "language": "python",
     "metadata": {},
     "outputs": [
      {
       "output_type": "pyout",
       "prompt_number": 32,
       "text": [
        "[u'inadequate',\n",
        " u'inala',\n",
        " u'inalienable',\n",
        " u'inane',\n",
        " u'inanimate',\n",
        " u'inapplicable',\n",
        " u'inappropriate',\n",
        " u'inappropriately',\n",
        " u'inaudible',\n",
        " u'inbreeding']"
       ]
      }
     ],
     "prompt_number": 30
    },
    {
     "cell_type": "markdown",
     "metadata": {},
     "source": [
      "In adition to the text of the documents that has been vectorized one also has access to the label information:"
     ]
    },
    {
     "cell_type": "code",
     "collapsed": false,
     "input": [
      "y_train = twenty_train_subset.target\n",
      "target_names = twenty_train_subset.target_names\n",
      "target_names"
     ],
     "language": "python",
     "metadata": {},
     "outputs": [
      {
       "output_type": "pyout",
       "prompt_number": 33,
       "text": [
        "['alt.atheism', 'comp.graphics', 'sci.space', 'talk.religion.misc']"
       ]
      }
     ],
     "prompt_number": 31
    },
    {
     "cell_type": "code",
     "collapsed": false,
     "input": [
      "y_train.shape"
     ],
     "language": "python",
     "metadata": {},
     "outputs": [
      {
       "output_type": "pyout",
       "prompt_number": 34,
       "text": [
        "(2034,)"
       ]
      }
     ],
     "prompt_number": 32
    },
    {
     "cell_type": "code",
     "collapsed": false,
     "input": [
      "y_train"
     ],
     "language": "python",
     "metadata": {},
     "outputs": [
      {
       "output_type": "pyout",
       "prompt_number": 35,
       "text": [
        "array([1, 2, 2, ..., 2, 1, 1])"
       ]
      }
     ],
     "prompt_number": 33
    },
    {
     "cell_type": "code",
     "collapsed": false,
     "input": [
      "# We can shape that we have the same number of samples for the input data and the labels:\n",
      "X_train.shape[0] == y_train.shape[0]"
     ],
     "language": "python",
     "metadata": {},
     "outputs": [
      {
       "output_type": "pyout",
       "prompt_number": 36,
       "text": [
        "True"
       ]
      }
     ],
     "prompt_number": 34
    },
    {
     "cell_type": "markdown",
     "metadata": {},
     "source": [
      "Now that we have extracted a vector representation of the data, it's a good idea to project the data on the first 2D of a Principal Component Analysis to get a feel of the data. Note that the `RandomizedPCA` class can accept `scipy.sparse` matrices as input (as an alternative to numpy arrays):"
     ]
    },
    {
     "cell_type": "code",
     "collapsed": false,
     "input": [
      "from sklearn.decomposition import RandomizedPCA\n",
      "\n",
      "%time X_train_pca = RandomizedPCA(n_components=2).fit_transform(X_train)"
     ],
     "language": "python",
     "metadata": {},
     "outputs": [
      {
       "output_type": "stream",
       "stream": "stdout",
       "text": [
        "CPU times: user 83.2 ms, sys: 210 \u00b5s, total: 83.4 ms\n",
        "Wall time: 82.7 ms\n"
       ]
      },
      {
       "output_type": "stream",
       "stream": "stderr",
       "text": [
        "/home/varoquau/dev/scikit-learn/sklearn/decomposition/pca.py:670: DeprecationWarning: Sparse matrix support is deprecated and will be dropped in 0.16. Use TruncatedSVD instead.\n",
        "  DeprecationWarning)\n"
       ]
      }
     ],
     "prompt_number": 35
    },
    {
     "cell_type": "code",
     "collapsed": false,
     "input": [
      "from itertools import cycle\n",
      "\n",
      "colors = ['b', 'g', 'r', 'c', 'm', 'y', 'k']\n",
      "for i, c in zip(np.unique(y_train), cycle(colors)):\n",
      "    plt.scatter(X_train_pca[y_train == i, 0],\n",
      "               X_train_pca[y_train == i, 1],\n",
      "               c=c, label=target_names[i], alpha=0.5)\n",
      "    \n",
      "_ = plt.legend(loc='best')"
     ],
     "language": "python",
     "metadata": {},
     "outputs": [
      {
       "output_type": "display_data",
       "png": "[encoded data removed]",
       "text": [
        "<matplotlib.figure.Figure at 0x5aef3d0>"
       ]
      }
     ],
     "prompt_number": 36
    },
    {
     "cell_type": "markdown",
     "metadata": {},
     "source": [
      "We can observe that there is a large overlap of the samples from different categories. This is to be expected as the PCA linear projection projects data from a 34118 dimensional space down to 2 dimensions: data that is linearly separable in 34118D is often no longer linearly separable in 2D.\n",
      "    \n",
      "Still we can notice an interesting pattern: the newsgroups on religion and atheism occupy the much the same region and computer graphics and space science / space overlap more together than they do with the religion or atheism newsgroups."
     ]
    },
    {
     "cell_type": "heading",
     "level": 3,
     "metadata": {},
     "source": [
      "Training a Classifier on Text Features"
     ]
    },
    {
     "cell_type": "markdown",
     "metadata": {},
     "source": [
      "We can now train a classifier, for instance a Multinomial Naive Bayesian classifier which is a fast baseline for text classification tasks:"
     ]
    },
    {
     "cell_type": "code",
     "collapsed": false,
     "input": [
      "from sklearn.naive_bayes import MultinomialNB\n",
      "\n",
      "clf = MultinomialNB(alpha=0.1)\n",
      "clf"
     ],
     "language": "python",
     "metadata": {},
     "outputs": [
      {
       "output_type": "pyout",
       "prompt_number": 39,
       "text": [
        "MultinomialNB(alpha=0.1, class_prior=None, fit_prior=True)"
       ]
      }
     ],
     "prompt_number": 37
    },
    {
     "cell_type": "code",
     "collapsed": false,
     "input": [
      "clf.fit(X_train, y_train)"
     ],
     "language": "python",
     "metadata": {},
     "outputs": [
      {
       "output_type": "pyout",
       "prompt_number": 40,
       "text": [
        "MultinomialNB(alpha=0.1, class_prior=None, fit_prior=True)"
       ]
      }
     ],
     "prompt_number": 38
    },
    {
     "cell_type": "markdown",
     "metadata": {},
     "source": [
      "We can now evaluate the classifier on the testing set. Let's first use the builtin score function, which is the rate of correct classification in the test set:"
     ]
    },
    {
     "cell_type": "code",
     "collapsed": false,
     "input": [
      "X_test = vectorizer.transform(twenty_test_subset.data)\n",
      "y_test = twenty_test_subset.target"
     ],
     "language": "python",
     "metadata": {},
     "outputs": [],
     "prompt_number": 39
    },
    {
     "cell_type": "code",
     "collapsed": false,
     "input": [
      "X_test.shape"
     ],
     "language": "python",
     "metadata": {},
     "outputs": [
      {
       "output_type": "pyout",
       "prompt_number": 42,
       "text": [
        "(1353, 34118)"
       ]
      }
     ],
     "prompt_number": 40
    },
    {
     "cell_type": "code",
     "collapsed": false,
     "input": [
      "y_test.shape"
     ],
     "language": "python",
     "metadata": {},
     "outputs": [
      {
       "output_type": "pyout",
       "prompt_number": 43,
       "text": [
        "(1353,)"
       ]
      }
     ],
     "prompt_number": 41
    },
    {
     "cell_type": "code",
     "collapsed": false,
     "input": [
      "clf.score(X_test, y_test)"
     ],
     "language": "python",
     "metadata": {},
     "outputs": [
      {
       "output_type": "pyout",
       "prompt_number": 44,
       "text": [
        "0.89652623798965259"
       ]
      }
     ],
     "prompt_number": 42
    },
    {
     "cell_type": "markdown",
     "metadata": {},
     "source": [
      "We can also compute the score on the test set and observe that the model is both overfitting and underfitting a bit at the same time:"
     ]
    },
    {
     "cell_type": "code",
     "collapsed": false,
     "input": [
      "clf.score(X_train, y_train)"
     ],
     "language": "python",
     "metadata": {},
     "outputs": [
      {
       "output_type": "pyout",
       "prompt_number": 45,
       "text": [
        "0.99262536873156337"
       ]
      }
     ],
     "prompt_number": 43
    },
    {
     "cell_type": "heading",
     "level": 3,
     "metadata": {},
     "source": [
      "Introspecting the Behavior of the Text Vectorizer"
     ]
    },
    {
     "cell_type": "markdown",
     "metadata": {},
     "source": [
      "The text vectorizer has many parameters to customize it's behavior, in particular how it extracts tokens:"
     ]
    },
    {
     "cell_type": "code",
     "collapsed": false,
     "input": [
      "TfidfVectorizer()"
     ],
     "language": "python",
     "metadata": {},
     "outputs": [
      {
       "output_type": "pyout",
       "prompt_number": 46,
       "text": [
        "TfidfVectorizer(analyzer=u'word', binary=False, charset=None,\n",
        "        charset_error=None, decode_error=u'strict',\n",
        "        dtype=<type 'numpy.int64'>, encoding=u'utf-8', input=u'content',\n",
        "        lowercase=True, max_df=1.0, max_features=None, min_df=1,\n",
        "        ngram_range=(1, 1), norm=u'l2', preprocessor=None, smooth_idf=True,\n",
        "        stop_words=None, strip_accents=None, sublinear_tf=False,\n",
        "        token_pattern=u'(?u)\\\\b\\\\w\\\\w+\\\\b', tokenizer=None, use_idf=True,\n",
        "        vocabulary=None)"
       ]
      }
     ],
     "prompt_number": 44
    },
    {
     "cell_type": "code",
     "collapsed": false,
     "input": [
      "print(TfidfVectorizer.__doc__)"
     ],
     "language": "python",
     "metadata": {},
     "outputs": [
      {
       "output_type": "stream",
       "stream": "stdout",
       "text": [
        "Convert a collection of raw documents to a matrix of TF-IDF features.\n",
        "\n",
        "    Equivalent to CountVectorizer followed by TfidfTransformer.\n",
        "\n",
        "    Parameters\n",
        "    ----------\n",
        "    input : string {'filename', 'file', 'content'}\n",
        "        If 'filename', the sequence passed as an argument to fit is\n",
        "        expected to be a list of filenames that need reading to fetch\n",
        "        the raw content to analyze.\n",
        "\n",
        "        If 'file', the sequence items must have a 'read' method (file-like\n",
        "        object) that is called to fetch the bytes in memory.\n",
        "\n",
        "        Otherwise the input is expected to be the sequence strings or\n",
        "        bytes items are expected to be analyzed directly.\n",
        "\n",
        "    encoding : string, 'utf-8' by default.\n",
        "        If bytes or files are given to analyze, this encoding is used to\n",
        "        decode.\n",
        "\n",
        "    decode_error : {'strict', 'ignore', 'replace'}\n",
        "        Instruction on what to do if a byte sequence is given to analyze that\n",
        "        contains characters not of the given `encoding`. By default, it is\n",
        "        'strict', meaning that a UnicodeDecodeError will be raised. Other\n",
        "        values are 'ignore' and 'replace'.\n",
        "\n",
        "    strip_accents : {'ascii', 'unicode', None}\n",
        "        Remove accents during the preprocessing step.\n",
        "        'ascii' is a fast method that only works on characters that have\n",
        "        an direct ASCII mapping.\n",
        "        'unicode' is a slightly slower method that works on any characters.\n",
        "        None (default) does nothing.\n",
        "\n",
        "    analyzer : string, {'word', 'char'} or callable\n",
        "        Whether the feature should be made of word or character n-grams.\n",
        "\n",
        "        If a callable is passed it is used to extract the sequence of features\n",
        "        out of the raw, unprocessed input.\n",
        "\n",
        "    preprocessor : callable or None (default)\n",
        "        Override the preprocessing (string transformation) stage while\n",
        "        preserving the tokenizing and n-grams generation steps.\n",
        "\n",
        "    tokenizer : callable or None (default)\n",
        "        Override the string tokenization step while preserving the\n",
        "        preprocessing and n-grams generation steps.\n",
        "\n",
        "    ngram_range : tuple (min_n, max_n)\n",
        "        The lower and upper boundary of the range of n-values for different\n",
        "        n-grams to be extracted. All values of n such that min_n <= n <= max_n\n",
        "        will be used.\n",
        "\n",
        "    stop_words : string {'english'}, list, or None (default)\n",
        "        If a string, it is passed to _check_stop_list and the appropriate stop\n",
        "        list is returned. 'english' is currently the only supported string\n",
        "        value.\n",
        "\n",
        "        If a list, that list is assumed to contain stop words, all of which\n",
        "        will be removed from the resulting tokens.\n",
        "\n",
        "        If None, no stop words will be used. max_df can be set to a value\n",
        "        in the range [0.7, 1.0) to automatically detect and filter stop\n",
        "        words based on intra corpus document frequency of terms.\n",
        "\n",
        "    lowercase : boolean, default True\n",
        "        Convert all characters to lowercase before tokenizing.\n",
        "\n",
        "    token_pattern : string\n",
        "        Regular expression denoting what constitutes a \"token\", only used\n",
        "        if `analyzer == 'word'`. The default regexp selects tokens of 2\n",
        "        or more alphanumeric characters (punctuation is completely ignored\n",
        "        and always treated as a token separator).\n",
        "\n",
        "    max_df : float in range [0.0, 1.0] or int, optional, 1.0 by default\n",
        "        When building the vocabulary ignore terms that have a term frequency\n",
        "        strictly higher than the given threshold (corpus specific stop words).\n",
        "        If float, the parameter represents a proportion of documents, integer\n",
        "        absolute counts.\n",
        "        This parameter is ignored if vocabulary is not None.\n",
        "\n",
        "    min_df : float in range [0.0, 1.0] or int, optional, 1 by default\n",
        "        When building the vocabulary ignore terms that have a term frequency\n",
        "        strictly lower than the given threshold.\n",
        "        This value is also called cut-off in the literature.\n",
        "        If float, the parameter represents a proportion of documents, integer\n",
        "        absolute counts.\n",
        "        This parameter is ignored if vocabulary is not None.\n",
        "\n",
        "    max_features : optional, None by default\n",
        "        If not None, build a vocabulary that only consider the top\n",
        "        max_features ordered by term frequency across the corpus.\n",
        "\n",
        "        This parameter is ignored if vocabulary is not None.\n",
        "\n",
        "    vocabulary : Mapping or iterable, optional\n",
        "        Either a Mapping (e.g., a dict) where keys are terms and values are\n",
        "        indices in the feature matrix, or an iterable over terms. If not\n",
        "        given, a vocabulary is determined from the input documents.\n",
        "\n",
        "    binary : boolean, False by default.\n",
        "        If True, all non-zero term counts are set to 1. This does not mean\n",
        "        outputs will have only 0/1 values, only that the tf term in tf-idf\n",
        "        is binary. (Set idf and normalization to False to get 0/1 outputs.)\n",
        "\n",
        "    dtype : type, optional\n",
        "        Type of the matrix returned by fit_transform() or transform().\n",
        "\n",
        "    norm : 'l1', 'l2' or None, optional\n",
        "        Norm used to normalize term vectors. None for no normalization.\n",
        "\n",
        "    use_idf : boolean, optional\n",
        "        Enable inverse-document-frequency reweighting.\n",
        "\n",
        "    smooth_idf : boolean, optional\n",
        "        Smooth idf weights by adding one to document frequencies, as if an\n",
        "        extra document was seen containing every term in the collection\n",
        "        exactly once. Prevents zero divisions.\n",
        "\n",
        "    sublinear_tf : boolean, optional\n",
        "        Apply sublinear tf scaling, i.e. replace tf with 1 + log(tf).\n",
        "\n",
        "    Attributes\n",
        "    ----------\n",
        "    ``idf_`` : array, shape = [n_features], or None\n",
        "        The learned idf vector (global term weights)\n",
        "        when ``use_idf`` is set to True, None otherwise.\n",
        "\n",
        "    See also\n",
        "    --------\n",
        "    CountVectorizer\n",
        "        Tokenize the documents and count the occurrences of token and return\n",
        "        them as a sparse matrix\n",
        "\n",
        "    TfidfTransformer\n",
        "        Apply Term Frequency Inverse Document Frequency normalization to a\n",
        "        sparse matrix of occurrence counts.\n",
        "\n",
        "    \n"
       ]
      }
     ],
     "prompt_number": 45
    },
    {
     "cell_type": "markdown",
     "metadata": {},
     "source": [
      "The easiest way to introspect what the vectorizer is actually doing for a given test of parameters is call the `vectorizer.build_analyzer()` to get an instance of the text analyzer it uses to process the text:"
     ]
    },
    {
     "cell_type": "code",
     "collapsed": false,
     "input": [
      "analyzer = TfidfVectorizer().build_analyzer()\n",
      "analyzer(\"I love scikit-learn: this is a cool Python lib!\")"
     ],
     "language": "python",
     "metadata": {},
     "outputs": [
      {
       "output_type": "pyout",
       "prompt_number": 48,
       "text": [
        "[u'love', u'scikit', u'learn', u'this', u'is', u'cool', u'python', u'lib']"
       ]
      }
     ],
     "prompt_number": 46
    },
    {
     "cell_type": "markdown",
     "metadata": {},
     "source": [
      "You can notice that all the tokens are lowercase, that the single letter word \"I\" was dropped, and that hyphenation is used. Let's change some of that default behavior:"
     ]
    },
    {
     "cell_type": "code",
     "collapsed": false,
     "input": [
      "analyzer = TfidfVectorizer(\n",
      "    preprocessor=lambda text: text,  # disable lowercasing\n",
      "    token_pattern=ur'(?u)\\b[\\w-]+\\b', # treat hyphen as a letter\n",
      "                                      # do not exclude single letter tokens\n",
      ").build_analyzer()\n",
      "\n",
      "analyzer(\"I love scikit-learn: this is a cool Python lib!\")"
     ],
     "language": "python",
     "metadata": {},
     "outputs": [
      {
       "output_type": "pyout",
       "prompt_number": 49,
       "text": [
        "[u'I',\n",
        " u'love',\n",
        " u'scikit-learn',\n",
        " u'this',\n",
        " u'is',\n",
        " u'a',\n",
        " u'cool',\n",
        " u'Python',\n",
        " u'lib']"
       ]
      }
     ],
     "prompt_number": 47
    },
    {
     "cell_type": "markdown",
     "metadata": {},
     "source": [
      "The analyzer name comes from the Lucene parlance: it wraps the sequential application of:\n",
      "\n",
      "- text preprocessing (processing the text documents as a whole, e.g. lowercasing)\n",
      "- text tokenization (splitting the document into a sequence of tokens)\n",
      "- token filtering and recombination (e.g. n-grams extraction, see later)\n",
      "\n",
      "The analyzer system of scikit-learn is much more basic than lucene's though."
     ]
    },
    {
     "cell_type": "markdown",
     "metadata": {},
     "source": [
      "**Exercise**:\n",
      "\n",
      "- Write a pre-processor callable (e.g. a python function) to remove the headers of the text a newsgroup post.\n",
      "- Vectorize the data again and measure the impact on performance of removing the header info from the dataset.\n",
      "- Do you expect the performance of the model to improve or decrease? What is the score of a uniform random classifier on the same dataset?\n",
      "\n",
      "Hint: the `TfidfVectorizer` class can accept python functions to customize the `preprocessor`, `tokenizer` or `analyzer` stages of the vectorizer.\n",
      "    \n",
      "- type `TfidfVectorizer()` alone in a cell to see the default value of the parameters\n",
      "\n",
      "- type `TfidfVectorizer.__doc__` to print the constructor parameters doc or `?` suffix operator on a any Python class or method to read the docstring or even the `??` operator to read the source code."
     ]
    },
    {
     "cell_type": "markdown",
     "metadata": {},
     "source": [
      "**Solution**:"
     ]
    },
    {
     "cell_type": "code",
     "collapsed": false,
     "input": [
      "# %load solutions/05B_strip_headers.py"
     ],
     "language": "python",
     "metadata": {},
     "outputs": [],
     "prompt_number": 48
    },
    {
     "cell_type": "heading",
     "level": 2,
     "metadata": {},
     "source": [
      "Assembling a Pipeline for Model Validation"
     ]
    },
    {
     "cell_type": "markdown",
     "metadata": {},
     "source": [
      "The feature extraction class has many options to customize its behavior:"
     ]
    },
    {
     "cell_type": "code",
     "collapsed": false,
     "input": [
      "print(TfidfVectorizer.__doc__)"
     ],
     "language": "python",
     "metadata": {},
     "outputs": [
      {
       "output_type": "stream",
       "stream": "stdout",
       "text": [
        "Convert a collection of raw documents to a matrix of TF-IDF features.\n",
        "\n",
        "    Equivalent to CountVectorizer followed by TfidfTransformer.\n",
        "\n",
        "    Parameters\n",
        "    ----------\n",
        "    input : string {'filename', 'file', 'content'}\n",
        "        If 'filename', the sequence passed as an argument to fit is\n",
        "        expected to be a list of filenames that need reading to fetch\n",
        "        the raw content to analyze.\n",
        "\n",
        "        If 'file', the sequence items must have a 'read' method (file-like\n",
        "        object) that is called to fetch the bytes in memory.\n",
        "\n",
        "        Otherwise the input is expected to be the sequence strings or\n",
        "        bytes items are expected to be analyzed directly.\n",
        "\n",
        "    encoding : string, 'utf-8' by default.\n",
        "        If bytes or files are given to analyze, this encoding is used to\n",
        "        decode.\n",
        "\n",
        "    decode_error : {'strict', 'ignore', 'replace'}\n",
        "        Instruction on what to do if a byte sequence is given to analyze that\n",
        "        contains characters not of the given `encoding`. By default, it is\n",
        "        'strict', meaning that a UnicodeDecodeError will be raised. Other\n",
        "        values are 'ignore' and 'replace'.\n",
        "\n",
        "    strip_accents : {'ascii', 'unicode', None}\n",
        "        Remove accents during the preprocessing step.\n",
        "        'ascii' is a fast method that only works on characters that have\n",
        "        an direct ASCII mapping.\n",
        "        'unicode' is a slightly slower method that works on any characters.\n",
        "        None (default) does nothing.\n",
        "\n",
        "    analyzer : string, {'word', 'char'} or callable\n",
        "        Whether the feature should be made of word or character n-grams.\n",
        "\n",
        "        If a callable is passed it is used to extract the sequence of features\n",
        "        out of the raw, unprocessed input.\n",
        "\n",
        "    preprocessor : callable or None (default)\n",
        "        Override the preprocessing (string transformation) stage while\n",
        "        preserving the tokenizing and n-grams generation steps.\n",
        "\n",
        "    tokenizer : callable or None (default)\n",
        "        Override the string tokenization step while preserving the\n",
        "        preprocessing and n-grams generation steps.\n",
        "\n",
        "    ngram_range : tuple (min_n, max_n)\n",
        "        The lower and upper boundary of the range of n-values for different\n",
        "        n-grams to be extracted. All values of n such that min_n <= n <= max_n\n",
        "        will be used.\n",
        "\n",
        "    stop_words : string {'english'}, list, or None (default)\n",
        "        If a string, it is passed to _check_stop_list and the appropriate stop\n",
        "        list is returned. 'english' is currently the only supported string\n",
        "        value.\n",
        "\n",
        "        If a list, that list is assumed to contain stop words, all of which\n",
        "        will be removed from the resulting tokens.\n",
        "\n",
        "        If None, no stop words will be used. max_df can be set to a value\n",
        "        in the range [0.7, 1.0) to automatically detect and filter stop\n",
        "        words based on intra corpus document frequency of terms.\n",
        "\n",
        "    lowercase : boolean, default True\n",
        "        Convert all characters to lowercase before tokenizing.\n",
        "\n",
        "    token_pattern : string\n",
        "        Regular expression denoting what constitutes a \"token\", only used\n",
        "        if `analyzer == 'word'`. The default regexp selects tokens of 2\n",
        "        or more alphanumeric characters (punctuation is completely ignored\n",
        "        and always treated as a token separator).\n",
        "\n",
        "    max_df : float in range [0.0, 1.0] or int, optional, 1.0 by default\n",
        "        When building the vocabulary ignore terms that have a term frequency\n",
        "        strictly higher than the given threshold (corpus specific stop words).\n",
        "        If float, the parameter represents a proportion of documents, integer\n",
        "        absolute counts.\n",
        "        This parameter is ignored if vocabulary is not None.\n",
        "\n",
        "    min_df : float in range [0.0, 1.0] or int, optional, 1 by default\n",
        "        When building the vocabulary ignore terms that have a term frequency\n",
        "        strictly lower than the given threshold.\n",
        "        This value is also called cut-off in the literature.\n",
        "        If float, the parameter represents a proportion of documents, integer\n",
        "        absolute counts.\n",
        "        This parameter is ignored if vocabulary is not None.\n",
        "\n",
        "    max_features : optional, None by default\n",
        "        If not None, build a vocabulary that only consider the top\n",
        "        max_features ordered by term frequency across the corpus.\n",
        "\n",
        "        This parameter is ignored if vocabulary is not None.\n",
        "\n",
        "    vocabulary : Mapping or iterable, optional\n",
        "        Either a Mapping (e.g., a dict) where keys are terms and values are\n",
        "        indices in the feature matrix, or an iterable over terms. If not\n",
        "        given, a vocabulary is determined from the input documents.\n",
        "\n",
        "    binary : boolean, False by default.\n",
        "        If True, all non-zero term counts are set to 1. This does not mean\n",
        "        outputs will have only 0/1 values, only that the tf term in tf-idf\n",
        "        is binary. (Set idf and normalization to False to get 0/1 outputs.)\n",
        "\n",
        "    dtype : type, optional\n",
        "        Type of the matrix returned by fit_transform() or transform().\n",
        "\n",
        "    norm : 'l1', 'l2' or None, optional\n",
        "        Norm used to normalize term vectors. None for no normalization.\n",
        "\n",
        "    use_idf : boolean, optional\n",
        "        Enable inverse-document-frequency reweighting.\n",
        "\n",
        "    smooth_idf : boolean, optional\n",
        "        Smooth idf weights by adding one to document frequencies, as if an\n",
        "        extra document was seen containing every term in the collection\n",
        "        exactly once. Prevents zero divisions.\n",
        "\n",
        "    sublinear_tf : boolean, optional\n",
        "        Apply sublinear tf scaling, i.e. replace tf with 1 + log(tf).\n",
        "\n",
        "    Attributes\n",
        "    ----------\n",
        "    ``idf_`` : array, shape = [n_features], or None\n",
        "        The learned idf vector (global term weights)\n",
        "        when ``use_idf`` is set to True, None otherwise.\n",
        "\n",
        "    See also\n",
        "    --------\n",
        "    CountVectorizer\n",
        "        Tokenize the documents and count the occurrences of token and return\n",
        "        them as a sparse matrix\n",
        "\n",
        "    TfidfTransformer\n",
        "        Apply Term Frequency Inverse Document Frequency normalization to a\n",
        "        sparse matrix of occurrence counts.\n",
        "\n",
        "    \n"
       ]
      }
     ],
     "prompt_number": 49
    },
    {
     "cell_type": "markdown",
     "metadata": {},
     "source": [
      "In order to evaluate the impact of the parameters of the feature extraction one can chain a configured feature extraction and linear classifier (as an alternative to the naive Bayes model:"
     ]
    },
    {
     "cell_type": "code",
     "collapsed": false,
     "input": [
      "from sklearn.linear_model import PassiveAggressiveClassifier\n",
      "from sklearn.pipeline import Pipeline\n",
      "\n",
      "pipeline = Pipeline((\n",
      "    ('vec', TfidfVectorizer(min_df=1, max_df=0.8, use_idf=True)),\n",
      "    ('clf', PassiveAggressiveClassifier(C=1)),\n",
      "))"
     ],
     "language": "python",
     "metadata": {},
     "outputs": [],
     "prompt_number": 50
    },
    {
     "cell_type": "markdown",
     "metadata": {},
     "source": [
      "Such a pipeline can then be used to evaluate the performance on the test set:"
     ]
    },
    {
     "cell_type": "code",
     "collapsed": false,
     "input": [
      "pipeline.fit(twenty_train_subset.data, twenty_train_subset.target)\n",
      "\n",
      "print(\"Train score:\")\n",
      "print(pipeline.score(twenty_train_subset.data, twenty_train_subset.target))\n",
      "print(\"Test score:\")\n",
      "print(pipeline.score(twenty_test_subset.data, twenty_test_subset.target))"
     ],
     "language": "python",
     "metadata": {},
     "outputs": [
      {
       "output_type": "stream",
       "stream": "stdout",
       "text": [
        "Train score:\n",
        "1.0"
       ]
      },
      {
       "output_type": "stream",
       "stream": "stdout",
       "text": [
        "\n",
        "Test score:\n",
        "0.888396156689"
       ]
      },
      {
       "output_type": "stream",
       "stream": "stdout",
       "text": [
        "\n"
       ]
      }
     ],
     "prompt_number": 51
    },
    {
     "cell_type": "heading",
     "level": 2,
     "metadata": {},
     "source": [
      "Introspecting Model Performance"
     ]
    },
    {
     "cell_type": "heading",
     "level": 3,
     "metadata": {},
     "source": [
      "Displaying the Most Discriminative Features"
     ]
    },
    {
     "cell_type": "markdown",
     "metadata": {},
     "source": [
      "Let's collect info on the fitted components of the previously trained model:"
     ]
    },
    {
     "cell_type": "code",
     "collapsed": false,
     "input": [
      "vec_name, vec = pipeline.steps[0]\n",
      "clf_name, clf = pipeline.steps[1]\n",
      "\n",
      "feature_names = vec.get_feature_names()\n",
      "\n",
      "feature_weights = clf.coef_\n",
      "\n",
      "feature_weights.shape"
     ],
     "language": "python",
     "metadata": {},
     "outputs": [
      {
       "output_type": "pyout",
       "prompt_number": 54,
       "text": [
        "(4, 34109)"
       ]
      }
     ],
     "prompt_number": 52
    },
    {
     "cell_type": "markdown",
     "metadata": {},
     "source": [
      "By sorting the feature weights on the linear model and asking the vectorizer what their names is, one can get a clue on what the model did actually learn on the data:"
     ]
    },
    {
     "cell_type": "code",
     "collapsed": false,
     "input": [
      "def display_important_features(feature_names, target_names, weights, n_top=30):\n",
      "    for i, target_name in enumerate(target_names):\n",
      "        print(\"Class: \" + target_name)\n",
      "        print(\"\")\n",
      "        \n",
      "        sorted_features_indices = weights[i].argsort()[::-1]\n",
      "        \n",
      "        most_important = sorted_features_indices[:n_top]\n",
      "        print(\", \".join(\"{0}: {1:.4f}\".format(feature_names[j], weights[i, j])\n",
      "                        for j in most_important))\n",
      "        print(\"...\")\n",
      "        \n",
      "        least_important = sorted_features_indices[-n_top:]\n",
      "        print(\", \".join(\"{0}: {1:.4f}\".format(feature_names[j], weights[i, j])\n",
      "                        for j in least_important))\n",
      "        print(\"\")\n",
      "        \n",
      "display_important_features(feature_names, target_names, feature_weights)"
     ],
     "language": "python",
     "metadata": {},
     "outputs": [
      {
       "output_type": "stream",
       "stream": "stdout",
       "text": [
        "Class: alt.atheism\n",
        "\n",
        "atheism: 2.8369, atheists: 2.7697, keith: 2.6781, cobb: 2.1986, islamic: 1.7952, okcforum: 1.6646, caltech: 1.5838, rice: 1.5769, bobby: 1.5187, peace: 1.5151, freedom: 1.4775, wingate: 1.4733, tammy: 1.4702, enviroleague: 1.4619, atheist: 1.4277, psilink: 1.3985, rushdie: 1.3846, tek: 1.3809, jaeger: 1.3783, osrhe: 1.3591, bible: 1.3543, wwc: 1.3375, mangoe: 1.3324, perry: 1.3082, religion: 1.2733, benedikt: 1.2581, liar: 1.2288, lunatic: 1.2110, free: 1.2060, charley: 1.2006\n",
        "...\n",
        "good: -0.8709, dm: -0.8764, 10: -0.8786, brian: -0.8900, objective: -0.8986, deal: -0.9098, thanks: -0.9174, order: -0.9174, image: -0.9258, scic: -0.9314, force: -0.9314, useful: -0.9377, com: -0.9414, weiss: -0.9428, interested: -0.9465, use: -0.9525, buffalo: -0.9580, fbi: -0.9660, 2000: -0.9810, they: -1.0051, muhammad: -1.0165, out: -1.0520, kevin: -1.0545, org: -1.0908, morality: -1.1773, mail: -1.1945, graphics: -1.5805, christian: -1.6466, hudson: -1.6503, space: -1.8655\n",
        "\n",
        "Class: comp.graphics\n",
        "\n",
        "graphics: 4.3650, image: 2.5319, tiff: 1.9232, file: 1.8831, animation: 1.8733, 3d: 1.7270, card: 1.7127, files: 1.6637, 42: 1.6542, 3do: 1.6326, points: 1.6154, code: 1.5795, computer: 1.5767, video: 1.5549, color: 1.5069, polygon: 1.5057, windows: 1.4597, comp: 1.4421, package: 1.3865, format: 1.3183, pc: 1.2518, email: 1.2262, cview: 1.2155, hi: 1.2004, 24: 1.1909, postscript: 1.1827, virtual: 1.1706, sphere: 1.1691, looking: 1.1613, images: 1.1561\n",
        "...\n",
        "astronomy: -0.9077, are: -0.9133, who: -0.9217, bill: -0.9354, atheism: -0.9397, org: -0.9404, christian: -0.9489, funding: -0.9494, that: -0.9597, by: -0.9654, solar: -0.9708, access: -0.9722, us: -0.9907, planets: -0.9992, cmu: -1.0507, moon: -1.0730, you: -1.0802, nasa: -1.0859, dgi: -1.1009, jennise: -1.1009, writes: -1.1152, was: -1.1369, beast: -1.1597, dc: -1.2858, he: -1.3806, orbit: -1.3853, edu: -1.4121, re: -1.4396, god: -1.6422, space: -3.5582\n",
        "\n",
        "Class: sci.space\n",
        "\n",
        "space: 5.7627, orbit: 2.3450, dc: 2.0973, nasa: 2.0815, moon: 1.9315, launch: 1.8711, sci: 1.7931, alaska: 1.7344, solar: 1.6946, henry: 1.6384, pat: 1.5734, ether: 1.5178, nick: 1.4982, planets: 1.4155, dietz: 1.3681, cmu: 1.3530, aurora: 1.3106, nicho: 1.2958, funding: 1.2768, lunar: 1.2757, astronomy: 1.2595, flight: 1.2418, rockets: 1.2048, jennise: 1.1963, dgi: 1.1963, shuttle: 1.1652, spacecraft: 1.1631, sky: 1.1593, digex: 1.1247, rochester: 1.1080\n",
        "...\n",
        "any: -0.8163, computer: -0.8183, gaspra: -0.8261, bible: -0.8342, video: -0.8485, religion: -0.8640, format: -0.8682, fbi: -0.8720, com: -0.8725, card: -0.8737, cc: -0.8828, code: -0.8875, 24: -0.8883, library: -0.8904, sgi: -0.9208, halat: -0.9531, 3d: -0.9607, ___: -0.9630, points: -1.0150, tiff: -1.0278, color: -1.0560, keith: -1.0664, koresh: -1.1302, file: -1.1529, files: -1.1679, image: -1.3169, christian: -1.3767, animation: -1.4241, god: -1.7873, graphics: -2.5640\n",
        "\n",
        "Class: talk.religion.misc\n",
        "\n",
        "christian: 3.0979, hudson: 1.8959, who: 1.8842, beast: 1.8652, fbi: 1.6698, mr: 1.6386, buffalo: 1.6148, 2000: 1.5694, abortion: 1.5172, church: 1.5061, koresh: 1.4853, weiss: 1.4829, morality: 1.4750, brian: 1.4736, order: 1.4545, frank: 1.4508, biblical: 1.4123, 666: 1.3742, thyagi: 1.3520, terrorist: 1.3306, christians: 1.3202, mormons: 1.2810, amdahl: 1.2641, blood: 1.2380, freenet: 1.2299, rosicrucian: 1.2122, mitre: 1.2032, christ: 1.1982, objective: 1.1635, love: 1.1519\n",
        "...\n",
        "file: -0.9489, saturn: -0.9516, university: -0.9569, on: -0.9592, ac: -0.9685, lunatic: -0.9820, for: -0.9882, orbit: -0.9893, some: -1.0031, anyone: -1.0355, uk: -1.0703, liar: -1.0715, ibm: -1.0965, wwc: -1.1029, thanks: -1.1200, freedom: -1.1455, nasa: -1.1951, free: -1.2008, thing: -1.2337, atheist: -1.2573, princeton: -1.2966, cobb: -1.3150, keith: -1.4660, caltech: -1.4869, graphics: -1.5331, edu: -1.5969, atheism: -1.7381, it: -1.7571, atheists: -1.9418, space: -2.2211\n",
        "\n"
       ]
      }
     ],
     "prompt_number": 53
    },
    {
     "cell_type": "heading",
     "level": 3,
     "metadata": {},
     "source": [
      "Displaying the per-class Classification Reports"
     ]
    },
    {
     "cell_type": "code",
     "collapsed": false,
     "input": [
      "from sklearn.metrics import classification_report\n",
      "\n",
      "predicted = pipeline.predict(twenty_test_subset.data)"
     ],
     "language": "python",
     "metadata": {},
     "outputs": [],
     "prompt_number": 54
    },
    {
     "cell_type": "code",
     "collapsed": false,
     "input": [
      "print(classification_report(twenty_test_subset.target, predicted,\n",
      "                            target_names=target_names))"
     ],
     "language": "python",
     "metadata": {},
     "outputs": [
      {
       "output_type": "stream",
       "stream": "stdout",
       "text": [
        "                    precision    recall  f1-score   support\n",
        "\n",
        "       alt.atheism       0.87      0.78      0.83       319\n",
        "     comp.graphics       0.93      0.96      0.95       389\n",
        "         sci.space       0.95      0.95      0.95       394\n",
        "talk.religion.misc       0.76      0.80      0.78       251\n",
        "\n",
        "       avg / total       0.89      0.89      0.89      1353\n",
        "\n"
       ]
      }
     ],
     "prompt_number": 55
    },
    {
     "cell_type": "heading",
     "level": 3,
     "metadata": {},
     "source": [
      "Printing the Confusion Matrix"
     ]
    },
    {
     "cell_type": "markdown",
     "metadata": {},
     "source": [
      "The confusion matrix summarize which class where by having a look at off-diagonal entries: here we can see that articles about atheism have been wrongly classified as being about religion 57 times for instance: "
     ]
    },
    {
     "cell_type": "code",
     "collapsed": false,
     "input": [
      "from sklearn.metrics import confusion_matrix\n",
      "\n",
      "confusion_matrix(twenty_test_subset.target, predicted)"
     ],
     "language": "python",
     "metadata": {},
     "outputs": [
      {
       "output_type": "pyout",
       "prompt_number": 58,
       "text": [
        "array([[250,   5,   7,  57],\n",
        "       [  2, 375,   6,   6],\n",
        "       [  2,  15, 375,   2],\n",
        "       [ 32,   9,   8, 202]])"
       ]
      }
     ],
     "prompt_number": 56
    }
   ],
   "metadata": {}
  }
 ]
}