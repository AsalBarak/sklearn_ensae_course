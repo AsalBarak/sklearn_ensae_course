{
 "metadata": {
  "name": ""
 },
 "nbformat": 3,
 "nbformat_minor": 0,
 "worksheets": [
  {
   "cells": [
    {
     "cell_type": "code",
     "collapsed": false,
     "input": [
      "%matplotlib inline\n",
      "import pylab as pl\n",
      "import numpy as np\n",
      "\n",
      "# Some nice default configuration for plots\n",
      "pl.rcParams['figure.figsize'] = 10, 7.5\n",
      "pl.rcParams['axes.grid'] = True"
     ],
     "language": "python",
     "metadata": {},
     "outputs": [],
     "prompt_number": 0
    },
    {
     "cell_type": "heading",
     "level": 1,
     "metadata": {},
     "source": [
      "Large Scale Text Classification for Sentiment Analysis"
     ]
    },
    {
     "cell_type": "heading",
     "level": 2,
     "metadata": {},
     "source": [
      "Outline of the Session"
     ]
    },
    {
     "cell_type": "markdown",
     "metadata": {},
     "source": [
      "- Limitations of the Vocabulary-Based Vectorizer\n",
      "- The **Hashing Trick**\n",
      "- **Online / Streaming** Text Feature Extraction and Classification\n",
      "- **Parallel** Text Feature Extraction and Classification"
     ]
    },
    {
     "cell_type": "heading",
     "level": 2,
     "metadata": {},
     "source": [
      "Scalability Issues"
     ]
    },
    {
     "cell_type": "markdown",
     "metadata": {},
     "source": [
      "The `sklearn.feature_extraction.text.CountVectorizer` and `sklearn.feature_extraction.text.TfidfVectorizer` classes suffer from a number of scalability issues that all stem from the internal usage of the `vocabulary_` attribute (a Python dictionary) used to map the unicode string feature names to the integer feature indices.\n",
      "\n",
      "The main scalability issues are:\n",
      "\n",
      "- **Memory usage of the text vectorizer**: the all the string representations of the features are loaded in memory\n",
      "- **Parallelization problems for text feature extraction**: the `vocabulary_` would be a shared state: complex synchronization and overhead\n",
      "- **Impossibility to do online or out-of-core / streaming learning**: the `vocabulary_` needs to be learned from the data: its size cannot be known before making one pass over the full dataset\n",
      "    \n",
      "    \n",
      "To better understand the issue let's have a look at how the `vocabulary_` attribute work. At `fit` time the tokens of the corpus are uniquely indentified by a integer index and this mapping stored in the vocabulary:"
     ]
    },
    {
     "cell_type": "code",
     "collapsed": false,
     "input": [
      "from sklearn.feature_extraction.text import CountVectorizer\n",
      "\n",
      "vectorizer = CountVectorizer(min_df=1)\n",
      "\n",
      "vectorizer.fit([\n",
      "    \"The cat sat on the mat.\",\n",
      "])\n",
      "vectorizer.vocabulary_"
     ],
     "language": "python",
     "metadata": {},
     "outputs": [
      {
       "output_type": "stream",
       "stream": "stderr",
       "text": [
        "/usr/lib/python2.7/dist-packages/scipy/stats/distributions.py:32: RuntimeWarning: numpy.ufunc size changed, may indicate binary incompatibility\n",
        "  from . import vonmises_cython\n",
        "/usr/lib/python2.7/dist-packages/scipy/spatial/__init__.py:88: RuntimeWarning: numpy.ufunc size changed, may indicate binary incompatibility\n",
        "  from .ckdtree import *\n",
        "/usr/lib/python2.7/dist-packages/scipy/spatial/__init__.py:89: RuntimeWarning: numpy.ufunc size changed, may indicate binary incompatibility\n",
        "  from .qhull import *\n",
        "/usr/lib/python2.7/dist-packages/scipy/stats/stats.py:251: RuntimeWarning: numpy.ufunc size changed, may indicate binary incompatibility\n",
        "  from ._rank import rankdata, tiecorrect\n"
       ]
      },
      {
       "output_type": "stream",
       "stream": "stderr",
       "text": [
        "/home/varoquau/dev/numpy/numpy/core/fromnumeric.py:2499: VisibleDeprecationWarning: `rank` is deprecated; use the `ndim` attribute or function instead. To find the rank of a matrix see `numpy.linalg.matrix_rank`.\n",
        "  VisibleDeprecationWarning)\n"
       ]
      },
      {
       "output_type": "pyout",
       "prompt_number": 3,
       "text": [
        "{u'cat': 0, u'mat': 1, u'on': 2, u'sat': 3, u'the': 4}"
       ]
      }
     ],
     "prompt_number": 1
    },
    {
     "cell_type": "markdown",
     "metadata": {},
     "source": [
      "The vocabulary is used at `transform` time to build the occurence matrix:"
     ]
    },
    {
     "cell_type": "code",
     "collapsed": false,
     "input": [
      "X = vectorizer.transform([\n",
      "    \"The cat sat on the mat.\",\n",
      "    \"This cat is a nice cat.\",\n",
      "]).toarray()\n",
      "\n",
      "print(len(vectorizer.vocabulary_))\n",
      "print(vectorizer.get_feature_names())\n",
      "print(X)"
     ],
     "language": "python",
     "metadata": {},
     "outputs": [
      {
       "output_type": "stream",
       "stream": "stdout",
       "text": [
        "5\n",
        "[u'cat', u'mat', u'on', u'sat', u'the']\n",
        "[[1 1 1 1 2]\n",
        " [2 0 0 0 0]]\n"
       ]
      }
     ],
     "prompt_number": 2
    },
    {
     "cell_type": "markdown",
     "metadata": {},
     "source": [
      "Let's refit with a slightly larger corpus:"
     ]
    },
    {
     "cell_type": "code",
     "collapsed": false,
     "input": [
      "vectorizer = CountVectorizer(min_df=1)\n",
      "\n",
      "vectorizer.fit([\n",
      "    \"The cat sat on the mat.\",\n",
      "    \"The quick brown fox jumps over the lazy dog.\",\n",
      "])\n",
      "vectorizer.vocabulary_"
     ],
     "language": "python",
     "metadata": {},
     "outputs": [
      {
       "output_type": "pyout",
       "prompt_number": 5,
       "text": [
        "{u'brown': 0,\n",
        " u'cat': 1,\n",
        " u'dog': 2,\n",
        " u'fox': 3,\n",
        " u'jumps': 4,\n",
        " u'lazy': 5,\n",
        " u'mat': 6,\n",
        " u'on': 7,\n",
        " u'over': 8,\n",
        " u'quick': 9,\n",
        " u'sat': 10,\n",
        " u'the': 11}"
       ]
      }
     ],
     "prompt_number": 3
    },
    {
     "cell_type": "markdown",
     "metadata": {},
     "source": [
      "The `vocabulary_` is the (logarithmically) growing with the size of the training corpus. Note that we could not have built the vocabularies in parallel on the 2 text documents as they share some words hence would require some kind of shared datastructure or synchronization barrier which is complicated to setup, especially if we want to distribute the processing on a cluster.\n",
      "\n",
      "With this new vocabulary, the dimensionality of the output space is now larger:"
     ]
    },
    {
     "cell_type": "code",
     "collapsed": false,
     "input": [
      "X = vectorizer.transform([\n",
      "    \"The cat sat on the mat.\",\n",
      "    \"This cat is a nice cat.\",\n",
      "]).toarray()\n",
      "\n",
      "print(len(vectorizer.vocabulary_))\n",
      "print(vectorizer.get_feature_names())\n",
      "print(X)"
     ],
     "language": "python",
     "metadata": {},
     "outputs": [
      {
       "output_type": "stream",
       "stream": "stdout",
       "text": [
        "12\n",
        "[u'brown', u'cat', u'dog', u'fox', u'jumps', u'lazy', u'mat', u'on', u'over', u'quick', u'sat', u'the']\n",
        "[[0 1 0 0 0 0 1 1 0 0 1 2]\n",
        " [0 2 0 0 0 0 0 0 0 0 0 0]]\n"
       ]
      }
     ],
     "prompt_number": 4
    },
    {
     "cell_type": "heading",
     "level": 2,
     "metadata": {},
     "source": [
      "The Sentiment 140 Dataset"
     ]
    },
    {
     "cell_type": "markdown",
     "metadata": {},
     "source": [
      "To illustrate the scalabitiy issues of the vocabulary-based vectorizers, let's load a more reallistic dataset for a classical text classification task: sentiment analysis on tweets. The goald is to tell appart negative from positive tweets on a variety of topics.\n",
      "\n",
      "Assuming that the `../fetch_data.py` script was run successfully the following files should be available:"
     ]
    },
    {
     "cell_type": "code",
     "collapsed": false,
     "input": [
      "import os\n",
      "\n",
      "sentiment140_folder = os.path.join('datasets', 'sentiment140')\n",
      "training_csv_file = os.path.join(sentiment140_folder, 'training.1600000.processed.noemoticon.csv')\n",
      "testing_csv_file = os.path.join(sentiment140_folder, 'testdata.manual.2009.06.14.csv')"
     ],
     "language": "python",
     "metadata": {},
     "outputs": [],
     "prompt_number": 5
    },
    {
     "cell_type": "markdown",
     "metadata": {},
     "source": [
      "Those files were downloaded from the research archive of the http://www.sentiment140.com/ project. The first file was gathered using the twitter streaming API by running stream queries for the positive \":)\" and negative \":(\" emoticons to collect tweets that are explicitly positive or negative. To make the classification problem non-trivial, the emoticons were stripped out of the text in the CSV files:"
     ]
    },
    {
     "cell_type": "code",
     "collapsed": false,
     "input": [
      "!ls -lh datasets/sentiment140/training.1600000.processed.noemoticon.csv"
     ],
     "language": "python",
     "metadata": {},
     "outputs": [
      {
       "output_type": "stream",
       "stream": "stdout",
       "text": [
        "-rw-r--r-- 1 varoquau varoquau 228M Jul 21 10:01 datasets/sentiment140/training.1600000.processed.noemoticon.csv\r\n"
       ]
      }
     ],
     "prompt_number": 6
    },
    {
     "cell_type": "markdown",
     "metadata": {},
     "source": [
      "Let's parse the CSV files and load everything in memory. As loading everything can take up to 2GB, let's limit the collection to 100K tweets of each (positive and negative) out of the total of 1.6M tweets."
     ]
    },
    {
     "cell_type": "code",
     "collapsed": false,
     "input": [
      "FIELDNAMES = ('polarity', 'id', 'date', 'query', 'author', 'text')\n",
      "\n",
      "def read_csv(csv_file, fieldnames=FIELDNAMES, max_count=None,\n",
      "             n_partitions=1, partition_id=0):\n",
      "    \n",
      "    import csv  # put the import inside for use in IPython.parallel\n",
      "    \n",
      "    texts = []\n",
      "    targets = []\n",
      "    with open(csv_file, 'rb') as f:\n",
      "        reader = csv.DictReader(f, fieldnames=fieldnames,\n",
      "                                delimiter=',', quotechar='\"')\n",
      "        pos_count, neg_count = 0, 0\n",
      "        for i, d in enumerate(reader):\n",
      "            if i % n_partitions != partition_id:\n",
      "                # Skip entry if not in the requested partition\n",
      "                continue\n",
      "\n",
      "            if d['polarity'] == '4':\n",
      "                if max_count and pos_count >= max_count / 2:\n",
      "                    continue\n",
      "                pos_count += 1\n",
      "                texts.append(d['text'])\n",
      "                targets.append(1)\n",
      "\n",
      "            elif d['polarity'] == '0':\n",
      "                if max_count and neg_count >= max_count / 2:\n",
      "                    continue\n",
      "                neg_count += 1\n",
      "                texts.append(d['text'])\n",
      "                targets.append(-1)\n",
      "\n",
      "    return texts, targets"
     ],
     "language": "python",
     "metadata": {},
     "outputs": [],
     "prompt_number": 7
    },
    {
     "cell_type": "code",
     "collapsed": false,
     "input": [
      "%time text_train_all, target_train_all = read_csv(training_csv_file, max_count=200000)"
     ],
     "language": "python",
     "metadata": {},
     "outputs": [
      {
       "output_type": "stream",
       "stream": "stdout",
       "text": [
        "CPU times: user 7.94 s, sys: 68.2 ms, total: 8.01 s\n",
        "Wall time: 8 s\n"
       ]
      }
     ],
     "prompt_number": 8
    },
    {
     "cell_type": "code",
     "collapsed": false,
     "input": [
      "len(text_train_all), len(target_train_all)"
     ],
     "language": "python",
     "metadata": {},
     "outputs": [
      {
       "output_type": "pyout",
       "prompt_number": 11,
       "text": [
        "(200000, 200000)"
       ]
      }
     ],
     "prompt_number": 9
    },
    {
     "cell_type": "markdown",
     "metadata": {},
     "source": [
      "Let's display the first samples:"
     ]
    },
    {
     "cell_type": "code",
     "collapsed": false,
     "input": [
      "for text in text_train_all[:3]:\n",
      "    print(text + \"\\n\")"
     ],
     "language": "python",
     "metadata": {},
     "outputs": [
      {
       "output_type": "stream",
       "stream": "stdout",
       "text": [
        "@switchfoot http://twitpic.com/2y1zl - Awww, that's a bummer.  You shoulda got David Carr of Third Day to do it. ;D\n",
        "\n",
        "is upset that he can't update his Facebook by texting it... and might cry as a result  School today also. Blah!\n",
        "\n",
        "@Kenichan I dived many times for the ball. Managed to save 50%  The rest go out of bounds\n",
        "\n"
       ]
      }
     ],
     "prompt_number": 10
    },
    {
     "cell_type": "code",
     "collapsed": false,
     "input": [
      "print(target_train_all[:3])"
     ],
     "language": "python",
     "metadata": {},
     "outputs": [
      {
       "output_type": "stream",
       "stream": "stdout",
       "text": [
        "[-1, -1, -1]\n"
       ]
      }
     ],
     "prompt_number": 11
    },
    {
     "cell_type": "markdown",
     "metadata": {},
     "source": [
      "A polarity of \"0\" means negative while a polarity of \"4\" means positive. All the positive tweets are at the end of the file:"
     ]
    },
    {
     "cell_type": "code",
     "collapsed": false,
     "input": [
      "for text in text_train_all[-3:]:\n",
      "    print(text + \"\\n\")"
     ],
     "language": "python",
     "metadata": {},
     "outputs": [
      {
       "output_type": "stream",
       "stream": "stdout",
       "text": [
        "Okie doke!! Time for me to escape for the North while Massa's back is turned. Be on when I get home folks \n",
        "\n",
        "finished the lessons, hooray! \n",
        "\n",
        "Some ppl are just fucking KP0. Cb ! Stop asking me laa.. I love my boyfriend and thats it. \n",
        "\n"
       ]
      }
     ],
     "prompt_number": 12
    },
    {
     "cell_type": "code",
     "collapsed": false,
     "input": [
      "print(target_train_all[-3:])"
     ],
     "language": "python",
     "metadata": {},
     "outputs": [
      {
       "output_type": "stream",
       "stream": "stdout",
       "text": [
        "[1, 1, 1]\n"
       ]
      }
     ],
     "prompt_number": 13
    },
    {
     "cell_type": "markdown",
     "metadata": {},
     "source": [
      "Let's split the training CSV file into a smaller training set and a validation set with 100k random tweets each:"
     ]
    },
    {
     "cell_type": "code",
     "collapsed": false,
     "input": [
      "from sklearn.cross_validation import train_test_split\n",
      "\n",
      "text_train_small, text_validation, target_train_small, target_validation = train_test_split(\n",
      "    text_train_all, target_train_all, test_size=.5, random_state=0)"
     ],
     "language": "python",
     "metadata": {},
     "outputs": [],
     "prompt_number": 14
    },
    {
     "cell_type": "code",
     "collapsed": false,
     "input": [
      "len(text_train_small)"
     ],
     "language": "python",
     "metadata": {},
     "outputs": [
      {
       "output_type": "pyout",
       "prompt_number": 17,
       "text": [
        "100000"
       ]
      }
     ],
     "prompt_number": 15
    },
    {
     "cell_type": "code",
     "collapsed": false,
     "input": [
      "# Let's make numpy arrays out of these \n",
      "target_train_small = np.array(target_train_small)\n",
      "target_validation = np.array(target_validation)"
     ],
     "language": "python",
     "metadata": {},
     "outputs": [],
     "prompt_number": 16
    },
    {
     "cell_type": "code",
     "collapsed": false,
     "input": [
      "np.sum(target_train_small == -1), np.sum(target_train_small == 1)"
     ],
     "language": "python",
     "metadata": {},
     "outputs": [
      {
       "output_type": "pyout",
       "prompt_number": 19,
       "text": [
        "(50195, 49805)"
       ]
      }
     ],
     "prompt_number": 17
    },
    {
     "cell_type": "code",
     "collapsed": false,
     "input": [
      "len(text_validation)"
     ],
     "language": "python",
     "metadata": {},
     "outputs": [
      {
       "output_type": "pyout",
       "prompt_number": 20,
       "text": [
        "100000"
       ]
      }
     ],
     "prompt_number": 18
    },
    {
     "cell_type": "code",
     "collapsed": false,
     "input": [
      "np.sum(target_validation == -1), np.sum(target_validation == 1)"
     ],
     "language": "python",
     "metadata": {},
     "outputs": [
      {
       "output_type": "pyout",
       "prompt_number": 21,
       "text": [
        "(49805, 50195)"
       ]
      }
     ],
     "prompt_number": 19
    },
    {
     "cell_type": "markdown",
     "metadata": {},
     "source": [
      "Let's open the manually annotated tweet files. The evaluation set also has neutral tweets with a polarity of \"2\" which we ignore. We can build the final evaluation set with only the positive and negative tweets of the evaluation CSV file:"
     ]
    },
    {
     "cell_type": "code",
     "collapsed": false,
     "input": [
      "text_test_all, target_test_all = read_csv(testing_csv_file)"
     ],
     "language": "python",
     "metadata": {},
     "outputs": [],
     "prompt_number": 20
    },
    {
     "cell_type": "code",
     "collapsed": false,
     "input": [
      "len(text_test_all), len(target_test_all)"
     ],
     "language": "python",
     "metadata": {},
     "outputs": [
      {
       "output_type": "pyout",
       "prompt_number": 23,
       "text": [
        "(359, 359)"
       ]
      }
     ],
     "prompt_number": 21
    },
    {
     "cell_type": "heading",
     "level": 2,
     "metadata": {},
     "source": [
      "The Hashing Trick"
     ]
    },
    {
     "cell_type": "markdown",
     "metadata": {},
     "source": [
      "To workaround the limitations of the vocabulary-based vectorizers, one can use the hashing trick. Instead of building and storing an explicit mapping from the feature names to the feature indices in a Python dict, we can just use a hash function and a modulus operation:"
     ]
    },
    {
     "cell_type": "code",
     "collapsed": false,
     "input": [
      "from sklearn.utils.murmurhash import murmurhash3_bytes_u32\n",
      "\n",
      "for word in \"the cat sat on the mat\".split():\n",
      "    print(\"{0} => {1}\".format(\n",
      "        word, murmurhash3_bytes_u32(word, 0) % 2 ** 20))"
     ],
     "language": "python",
     "metadata": {},
     "outputs": [
      {
       "output_type": "stream",
       "stream": "stdout",
       "text": [
        "the => 761698\n",
        "cat => 300839\n",
        "sat => 122804\n",
        "on => 735689\n",
        "the => 761698\n",
        "mat => 122997\n"
       ]
      }
     ],
     "prompt_number": 22
    },
    {
     "cell_type": "markdown",
     "metadata": {},
     "source": [
      "This mapping is completly stateless and the dimensionality of the output space is explicitly fixed in advance (here we use a modulo `2 ** 20` which means roughly 1M dimensions). The makes it possible to workaround the limitations of the vocabulary based vectorizer both for parallelizability and online / out-of-core learning."
     ]
    },
    {
     "cell_type": "markdown",
     "metadata": {},
     "source": [
      "The `HashingVectorizer` class is an alternative to the `TfidfVectorizer` class with `use_idf=False` that internally uses the murmurhash hash function:"
     ]
    },
    {
     "cell_type": "code",
     "collapsed": false,
     "input": [
      "from sklearn.feature_extraction.text import HashingVectorizer\n",
      "\n",
      "h_vectorizer = HashingVectorizer(charset='latin-1')\n",
      "h_vectorizer"
     ],
     "language": "python",
     "metadata": {},
     "outputs": [
      {
       "output_type": "stream",
       "stream": "stderr",
       "text": [
        "/home/varoquau/dev/scikit-learn/sklearn/feature_extraction/text.py:389: DeprecationWarning: The charset parameter is deprecated as of version 0.14 and will be removed in 0.16. Use encoding instead.\n",
        "  DeprecationWarning)\n"
       ]
      },
      {
       "output_type": "pyout",
       "prompt_number": 25,
       "text": [
        "HashingVectorizer(analyzer=u'word', binary=False, charset=None,\n",
        "         charset_error=None, decode_error=u'strict',\n",
        "         dtype=<type 'numpy.float64'>, encoding='latin-1',\n",
        "         input=u'content', lowercase=True, n_features=1048576,\n",
        "         ngram_range=(1, 1), non_negative=False, norm=u'l2',\n",
        "         preprocessor=None, stop_words=None, strip_accents=None,\n",
        "         token_pattern=u'(?u)\\\\b\\\\w\\\\w+\\\\b', tokenizer=None)"
       ]
      }
     ],
     "prompt_number": 23
    },
    {
     "cell_type": "markdown",
     "metadata": {},
     "source": [
      "It shares the same \"preprocessor\", \"tokenizer\" and \"analyzer\" infrastructure:"
     ]
    },
    {
     "cell_type": "code",
     "collapsed": false,
     "input": [
      "analyzer = h_vectorizer.build_analyzer()\n",
      "analyzer('This is a test sentence.')"
     ],
     "language": "python",
     "metadata": {},
     "outputs": [
      {
       "output_type": "pyout",
       "prompt_number": 26,
       "text": [
        "[u'this', u'is', u'test', u'sentence']"
       ]
      }
     ],
     "prompt_number": 24
    },
    {
     "cell_type": "markdown",
     "metadata": {},
     "source": [
      "We can vectorize our datasets into a scipy sparse matrix exactly as we would have done with the `CountVectorizer` or `TfidfVectorizer`, except that we can directly call the `transform` method: there is no need to `fit` as `HashingVectorizer` is a stateless transformer:"
     ]
    },
    {
     "cell_type": "code",
     "collapsed": false,
     "input": [
      "%time X_train_small = h_vectorizer.transform(text_train_small)"
     ],
     "language": "python",
     "metadata": {},
     "outputs": [
      {
       "output_type": "stream",
       "stream": "stdout",
       "text": [
        "CPU times: user 1.82 s, sys: 8.17 ms, total: 1.83 s\n",
        "Wall time: 1.82 s\n"
       ]
      }
     ],
     "prompt_number": 25
    },
    {
     "cell_type": "markdown",
     "metadata": {},
     "source": [
      "The dimension of the output is fixed ahead of time to `n_features=2 ** 20` by default (nearly 1M features) to minimize the rate of collision on most classification problem while having reasonably sized linear models (1M weights in the `coef_` attribute):"
     ]
    },
    {
     "cell_type": "code",
     "collapsed": false,
     "input": [
      "X_train_small"
     ],
     "language": "python",
     "metadata": {},
     "outputs": [
      {
       "output_type": "pyout",
       "prompt_number": 28,
       "text": [
        "<100000x1048576 sparse matrix of type '<type 'numpy.float64'>'\n",
        "\twith 1184803 stored elements in Compressed Sparse Row format>"
       ]
      }
     ],
     "prompt_number": 26
    },
    {
     "cell_type": "markdown",
     "metadata": {},
     "source": [
      "As only the non-zero elements are stored, `n_features` has little impact on the actual size of the data in memory. We can combine the hashing vectorizer with a Passive-Aggressive linear model in a pipeline:"
     ]
    },
    {
     "cell_type": "code",
     "collapsed": false,
     "input": [
      "from sklearn.linear_model import PassiveAggressiveClassifier\n",
      "from sklearn.pipeline import Pipeline\n",
      "\n",
      "h_pipeline = Pipeline((\n",
      "    ('vec', HashingVectorizer(charset='latin-1')),\n",
      "    ('clf', PassiveAggressiveClassifier(C=1, n_iter=1)),\n",
      "))\n",
      "\n",
      "%time h_pipeline.fit(text_train_small, target_train_small).score(text_validation, target_validation)"
     ],
     "language": "python",
     "metadata": {},
     "outputs": [
      {
       "output_type": "stream",
       "stream": "stdout",
       "text": [
        "CPU times: user 3.96 s, sys: 32.6 ms, total: 3.99 s\n",
        "Wall time: 3.95 s\n"
       ]
      },
      {
       "output_type": "pyout",
       "prompt_number": 29,
       "text": [
        "0.74768000000000001"
       ]
      }
     ],
     "prompt_number": 27
    },
    {
     "cell_type": "markdown",
     "metadata": {},
     "source": [
      "Let's check that the score on the validation set is reasonably in line with the set of manually annotated tweets:"
     ]
    },
    {
     "cell_type": "code",
     "collapsed": false,
     "input": [
      "h_pipeline.score(text_test_all, target_test_all)"
     ],
     "language": "python",
     "metadata": {},
     "outputs": [
      {
       "output_type": "pyout",
       "prompt_number": 30,
       "text": [
        "0.74930362116991645"
       ]
      }
     ],
     "prompt_number": 28
    },
    {
     "cell_type": "markdown",
     "metadata": {},
     "source": [
      "As the `text_train_small` dataset is not that big we can still use a vocabulary based vectorizer to check that the hashing collisions are not causing any significative performance drop on the validation set (**WARNING** this is twice as slow as the hashing vectorizer version, skip this cell if your computer is too slow):"
     ]
    },
    {
     "cell_type": "code",
     "collapsed": false,
     "input": [
      "from sklearn.feature_extraction.text import TfidfVectorizer\n",
      "\n",
      "vocabulary_vec = TfidfVectorizer(charset='latin-1', use_idf=False)\n",
      "vocabulary_pipeline = Pipeline((\n",
      "    ('vec', vocabulary_vec),\n",
      "    ('clf', PassiveAggressiveClassifier(C=1, n_iter=1)),\n",
      "))\n",
      "\n",
      "%time vocabulary_pipeline.fit(text_train_small, target_train_small).score(text_validation, target_validation)"
     ],
     "language": "python",
     "metadata": {},
     "outputs": [
      {
       "output_type": "stream",
       "stream": "stdout",
       "text": [
        "CPU times: user 3.27 s, sys: 60.7 ms, total: 3.33 s\n",
        "Wall time: 3.29 s\n"
       ]
      },
      {
       "output_type": "stream",
       "stream": "stderr",
       "text": [
        "/home/varoquau/dev/scikit-learn/sklearn/feature_extraction/text.py:620: DeprecationWarning: The charset parameter is deprecated as of version 0.14 and will be removed in 0.16. Use encoding instead.\n",
        "  DeprecationWarning)\n"
       ]
      },
      {
       "output_type": "pyout",
       "prompt_number": 31,
       "text": [
        "0.74802000000000002"
       ]
      }
     ],
     "prompt_number": 29
    },
    {
     "cell_type": "markdown",
     "metadata": {},
     "source": [
      "We get almost the same score but almost twice as slower with also a big, slow to (un)pickle datastructure in memory:"
     ]
    },
    {
     "cell_type": "code",
     "collapsed": false,
     "input": [
      "len(vocabulary_vec.vocabulary_)"
     ],
     "language": "python",
     "metadata": {},
     "outputs": [
      {
       "output_type": "pyout",
       "prompt_number": 32,
       "text": [
        "91405"
       ]
      }
     ],
     "prompt_number": 30
    },
    {
     "cell_type": "markdown",
     "metadata": {},
     "source": [
      "More info and reference for the original papers on the Hashing Trick in the answers to this http://metaoptimize.com/qa question: [What is the Hashing Trick?](http://metaoptimize.com/qa/questions/6943/what-is-the-hashing-trick)."
     ]
    },
    {
     "cell_type": "heading",
     "level": 2,
     "metadata": {},
     "source": [
      "Out-of-Core learning"
     ]
    },
    {
     "cell_type": "markdown",
     "metadata": {},
     "source": [
      "Out-of-Core learning is the task of training a machine learning model on a dataset that does not fit in the main memory. This requires the following conditions:\n",
      "    \n",
      "- a **feature extraction** layer with **fixed output dimensionality**\n",
      "- knowing the list of all classes in advance (in this case we only have positive and negative tweets)\n",
      "- a machine learning **algorithm that supports incremental learning** (the `partial_fit` method in scikit-learn).\n",
      "\n",
      "Let us simulate an infinite tweeter stream that can generate batches of annotated tweet texts and there polarity. We can do this by recombining randomly pairs of positive or negative tweets from our fixed dataset:"
     ]
    },
    {
     "cell_type": "code",
     "collapsed": false,
     "input": [
      "from random import Random\n",
      "\n",
      "\n",
      "class InfiniteStreamGenerator(object):\n",
      "    \"\"\"Simulate random polarity queries on the twitter streaming API\"\"\"\n",
      "    \n",
      "    def __init__(self, texts, targets, seed=0, batchsize=100):\n",
      "        self.texts_pos = [text for text, target in zip(texts, targets)\n",
      "                               if target > 0]\n",
      "        self.texts_neg = [text for text, target in zip(texts, targets)\n",
      "                               if target <= 0]\n",
      "        self.rng = Random(seed)\n",
      "        self.batchsize = batchsize\n",
      "\n",
      "    def next_batch(self, batchsize=None):\n",
      "        batchsize = self.batchsize if batchsize is None else batchsize\n",
      "        texts, targets = [], []\n",
      "        for i in range(batchsize):\n",
      "            # Select the polarity randomly\n",
      "            target = self.rng.choice((-1, 1))\n",
      "            targets.append(target)\n",
      "            \n",
      "            # Combine 2 random texts of the right polarity\n",
      "            pool = self.texts_pos if target > 0 else self.texts_neg\n",
      "            text = self.rng.choice(pool) + \" \" + self.rng.choice(pool)\n",
      "            texts.append(text)\n",
      "        return texts, targets\n",
      "\n",
      "infinite_stream = InfiniteStreamGenerator(text_train_small, target_train_small)"
     ],
     "language": "python",
     "metadata": {},
     "outputs": [],
     "prompt_number": 31
    },
    {
     "cell_type": "code",
     "collapsed": false,
     "input": [
      "texts_in_batch, targets_in_batch = infinite_stream.next_batch(batchsize=3)"
     ],
     "language": "python",
     "metadata": {},
     "outputs": [],
     "prompt_number": 32
    },
    {
     "cell_type": "code",
     "collapsed": false,
     "input": [
      "for t in texts_in_batch:\n",
      "    print(t + \"\\n\")"
     ],
     "language": "python",
     "metadata": {},
     "outputs": [
      {
       "output_type": "stream",
       "stream": "stdout",
       "text": [
        "It's sunny outside, so @penguingirl74 and I are inside playing Gears 2 Co-Op  just ate Lucky Me! Curly Spaghetti. Instant Spaghetti finally made right. \n",
        "\n",
        "@mirandafox Poor Princess Twitchy   I was so shocked!! Just woke up feel crap \n",
        "\n",
        "@samkoh hahaha, but were you twittering and driving!? remind me never to ride in your car!  @ithinkminh well, you have till Oct to get there \n",
        "\n"
       ]
      }
     ],
     "prompt_number": 33
    },
    {
     "cell_type": "code",
     "collapsed": false,
     "input": [
      "targets_in_batch"
     ],
     "language": "python",
     "metadata": {},
     "outputs": [
      {
       "output_type": "pyout",
       "prompt_number": 36,
       "text": [
        "[1, -1, 1]"
       ]
      }
     ],
     "prompt_number": 34
    },
    {
     "cell_type": "markdown",
     "metadata": {},
     "source": [
      "We can now use our infinte tweet source to train an online machine learning algorithm using the hashing vectorizer. Note the use of the `partial_fit` method of the `PassiveAggressiveClassifier` instance in place of the traditional call to the `fit` method that needs access to the full training set.\n",
      "\n",
      "From time to time, we evaluate the current predictive performance of the model on our validation set that is guaranteed to not overlap with the infinite training set source:"
     ]
    },
    {
     "cell_type": "code",
     "collapsed": false,
     "input": [
      "n_batches = 1000\n",
      "validation_scores = []\n",
      "training_set_size = []\n",
      "\n",
      "# Build the vectorizer and the classifier\n",
      "h_vectorizer = HashingVectorizer(charset='latin-1')\n",
      "clf = PassiveAggressiveClassifier(C=1)\n",
      "\n",
      "# Extract the features for the validation once and for all\n",
      "X_validation = h_vectorizer.transform(text_validation)\n",
      "classes = np.array([-1, 1])\n",
      "\n",
      "n_samples = 0\n",
      "for i in range(n_batches):\n",
      "    \n",
      "    texts_in_batch, targets_in_batch = infinite_stream.next_batch()    \n",
      "    n_samples += len(texts_in_batch)\n",
      "\n",
      "    # Vectorize the text documents in the batch\n",
      "    X_batch = h_vectorizer.transform(texts_in_batch)\n",
      "    \n",
      "    # Incrementally train the model on the new batch\n",
      "    clf.partial_fit(X_batch, targets_in_batch, classes=classes)\n",
      "    \n",
      "    if n_samples % 100 == 0:\n",
      "        # Compute the validation score of the current state of the model\n",
      "        score = clf.score(X_validation, target_validation)\n",
      "        validation_scores.append(score)\n",
      "        training_set_size.append(n_samples)\n",
      "\n",
      "    if i % 100 == 0:\n",
      "        print(\"n_samples: {0}, score: {1:.4f}\".format(n_samples, score))"
     ],
     "language": "python",
     "metadata": {},
     "outputs": [
      {
       "output_type": "stream",
       "stream": "stdout",
       "text": [
        "n_samples: 100, score: 0.5411\n",
        "n_samples: 10100, score: 0.7215"
       ]
      },
      {
       "output_type": "stream",
       "stream": "stdout",
       "text": [
        "\n",
        "n_samples: 20100, score: 0.7413"
       ]
      },
      {
       "output_type": "stream",
       "stream": "stdout",
       "text": [
        "\n",
        "n_samples: 30100, score: 0.7536"
       ]
      },
      {
       "output_type": "stream",
       "stream": "stdout",
       "text": [
        "\n",
        "n_samples: 40100, score: 0.7528"
       ]
      },
      {
       "output_type": "stream",
       "stream": "stdout",
       "text": [
        "\n",
        "n_samples: 50100, score: 0.7381"
       ]
      },
      {
       "output_type": "stream",
       "stream": "stdout",
       "text": [
        "\n",
        "n_samples: 60100, score: 0.7560"
       ]
      },
      {
       "output_type": "stream",
       "stream": "stdout",
       "text": [
        "\n",
        "n_samples: 70100, score: 0.7535"
       ]
      },
      {
       "output_type": "stream",
       "stream": "stdout",
       "text": [
        "\n",
        "n_samples: 80100, score: 0.7543"
       ]
      },
      {
       "output_type": "stream",
       "stream": "stdout",
       "text": [
        "\n",
        "n_samples: 90100, score: 0.7575"
       ]
      },
      {
       "output_type": "stream",
       "stream": "stdout",
       "text": [
        "\n"
       ]
      }
     ],
     "prompt_number": 35
    },
    {
     "cell_type": "markdown",
     "metadata": {},
     "source": [
      "We can now plot the collected validation score values, versus the number of samples generated by the infinite source and feed to the model:"
     ]
    },
    {
     "cell_type": "code",
     "collapsed": false,
     "input": [
      "pl.plot(training_set_size, validation_scores)\n",
      "pl.ylim(0.5, 1)\n",
      "pl.xlabel(\"Number of samples\")\n",
      "pl.ylabel(\"Validation score\")"
     ],
     "language": "python",
     "metadata": {},
     "outputs": [
      {
       "output_type": "pyout",
       "prompt_number": 38,
       "text": [
        "<matplotlib.text.Text at 0x8ea3d50>"
       ]
      },
      {
       "output_type": "display_data",
       "png": "[encoded data removed]",
       "text": [
        "<matplotlib.figure.Figure at 0x6d9b3d0>"
       ]
      }
     ],
     "prompt_number": 36
    },
    {
     "cell_type": "heading",
     "level": 3,
     "metadata": {},
     "source": [
      "Limitations of the Hashing Vectorizer"
     ]
    },
    {
     "cell_type": "markdown",
     "metadata": {},
     "source": [
      "Using the Hashing Vectorizer makes it possible to implement streaming and parallel text classification but can also introduce some issues:\n",
      "    \n",
      "- The collisions can introduce too much noise in the data and degrade prediction quality,\n",
      "- The `HashingVectorizer` does not provide \"Inverse Document Frequency\" reweighting (lack of a `use_idf=True` option).\n",
      "- There is no easy way to inverse the mapping and find the feature names from the feature index.\n",
      "\n",
      "The collision issues can be controlled by increasing the `n_features` parameters.\n",
      "\n",
      "The IDF weighting might be reintroduced by appending a `TfidfTransformer` instance on the output of the vectorizer. However computing the `idf_` statistic used for the feature reweighting will require to do at least one additional pass over the training set before being able to start training the classifier: this breaks the online learning scheme.\n",
      "\n",
      "The lack of inverse mapping (the `get_feature_names()` method of `TfidfVectorizer`) is even harder to workaround. That would require extending the `HashingVectorizer` class to add a \"trace\" mode to record the mapping of the most important features to provide statistical debugging information.\n",
      "\n",
      "In the mean time to debug feature extraction issues, it is recommended to use `TfidfVectorizer(use_idf=False)` on a small-ish subset of the dataset to simulate a `HashingVectorizer()` instance that have the `get_feature_names()` method and no collision issues."
     ]
    },
    {
     "cell_type": "code",
     "collapsed": false,
     "input": [],
     "language": "python",
     "metadata": {},
     "outputs": [],
     "prompt_number": 37
    }
   ],
   "metadata": {}
  }
 ]
}